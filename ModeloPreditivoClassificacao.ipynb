{
 "cells": [
  {
   "cell_type": "markdown",
   "metadata": {},
   "source": [
    "# <font color='blue'>Machine Learning - Modelo preditivo de Classificacao</font>\n",
    "\n",
    "\n",
    "\n",
    "### Usando SVM (Suporte Vector Machine)  Para Prever a Intenção de Compra de Usuários de E-Commerce"
   ]
  },
  {
   "cell_type": "markdown",
   "metadata": {},
   "source": [
    "### Definição do Problema de Negócio:\n",
    "\n",
    "Meu trabalho será avaliar quais atributos influenciam um usuário na compra de produtos online e construir um modelo preditivo para realizar previsões de compras futuras."
   ]
  },
  {
   "cell_type": "markdown",
   "metadata": {},
   "source": [
    "Usarei como fonte de dados o dataset:\n",
    "\n",
    "Online Shoppers Purchasing Intention Dataset\n",
    "\n",
    "https://archive.ics.uci.edu/ml/datasets/Online+Shoppers+Purchasing+Intention+Dataset\n",
    "\n",
    "O conjunto de dados consiste em 10 atributos numéricos e 8 categóricos. O atributo 'Revenue' pode ser usado como o rótulo da classe, ou seja, variável ALVO"
   ]
  },
  {
   "cell_type": "markdown",
   "metadata": {},
   "source": [
    "## Importando os pacotes a serem utilizados"
   ]
  },
  {
   "cell_type": "code",
   "execution_count": 334,
   "metadata": {},
   "outputs": [],
   "source": [
    "# Importando bibliotecas que irei utilizar...\n",
    "\n",
    "import time\n",
    "import numpy as np\n",
    "import pandas as pd\n",
    "import seaborn as sns\n",
    "import matplotlib.pyplot as plt\n",
    "from sklearn.preprocessing import StandardScaler\n",
    "from sklearn.preprocessing import LabelEncoder\n",
    "from sklearn.model_selection import train_test_split\n",
    "from sklearn.model_selection import GridSearchCV\n",
    "from sklearn.metrics import precision_score, recall_score, f1_score, accuracy_score, roc_auc_score\n",
    "from sklearn import svm\n",
    "import sklearn\n",
    "import matplotlib\n",
    "import warnings\n",
    "warnings.filterwarnings(\"ignore\")\n",
    "warnings.filterwarnings('ignore', category=DeprecationWarning)"
   ]
  },
  {
   "cell_type": "markdown",
   "metadata": {},
   "source": [
    "- sklearn : É uma biblioteca de código aberto que fornece ferramentas simples e eficientes para: aprendizado supervisionado e não supervisionado, pré-processamento de dados, avaliação de modelos e seleção de modelos.\n",
    "  \n",
    "- O LabelEncoder é uma ferramenta do scikit-learn usada para transformar rótulos categóricos (texto ou classes) em valores numéricos, permitindo que algoritmos de Machine Learning processem dados categóricos\n",
    "  \n",
    "- StandardScaler é uma técnica de pré-processamento de dados do scikit-learn usada para padronizar/normalizar features numéricas, garantindo que todas tenham a mesma escala. Isso é crucial para muitos algoritmos de Machine Learning que são sensíveis à magnitude dos dados (ex: SVM, KNN, Regressão Linear)."
   ]
  },
  {
   "cell_type": "markdown",
   "metadata": {},
   "source": [
    "## Carga e Dicionário de Dados"
   ]
  },
  {
   "cell_type": "code",
   "execution_count": 336,
   "metadata": {},
   "outputs": [
    {
     "data": {
      "text/html": [
       "<div>\n",
       "<style scoped>\n",
       "    .dataframe tbody tr th:only-of-type {\n",
       "        vertical-align: middle;\n",
       "    }\n",
       "\n",
       "    .dataframe tbody tr th {\n",
       "        vertical-align: top;\n",
       "    }\n",
       "\n",
       "    .dataframe thead th {\n",
       "        text-align: right;\n",
       "    }\n",
       "</style>\n",
       "<table border=\"1\" class=\"dataframe\">\n",
       "  <thead>\n",
       "    <tr style=\"text-align: right;\">\n",
       "      <th></th>\n",
       "      <th>Administrative</th>\n",
       "      <th>Administrative_Duration</th>\n",
       "      <th>Informational</th>\n",
       "      <th>Informational_Duration</th>\n",
       "      <th>ProductRelated</th>\n",
       "      <th>ProductRelated_Duration</th>\n",
       "      <th>BounceRates</th>\n",
       "      <th>ExitRates</th>\n",
       "      <th>PageValues</th>\n",
       "      <th>SpecialDay</th>\n",
       "      <th>Month</th>\n",
       "      <th>OperatingSystems</th>\n",
       "      <th>Browser</th>\n",
       "      <th>Region</th>\n",
       "      <th>TrafficType</th>\n",
       "      <th>VisitorType</th>\n",
       "      <th>Weekend</th>\n",
       "      <th>Revenue</th>\n",
       "    </tr>\n",
       "  </thead>\n",
       "  <tbody>\n",
       "    <tr>\n",
       "      <th>0</th>\n",
       "      <td>0.0</td>\n",
       "      <td>0.0</td>\n",
       "      <td>0.0</td>\n",
       "      <td>0.0</td>\n",
       "      <td>1.0</td>\n",
       "      <td>0.000000</td>\n",
       "      <td>0.20</td>\n",
       "      <td>0.20</td>\n",
       "      <td>0.0</td>\n",
       "      <td>0.0</td>\n",
       "      <td>Feb</td>\n",
       "      <td>1</td>\n",
       "      <td>1</td>\n",
       "      <td>1</td>\n",
       "      <td>1</td>\n",
       "      <td>Returning_Visitor</td>\n",
       "      <td>False</td>\n",
       "      <td>False</td>\n",
       "    </tr>\n",
       "    <tr>\n",
       "      <th>1</th>\n",
       "      <td>0.0</td>\n",
       "      <td>0.0</td>\n",
       "      <td>0.0</td>\n",
       "      <td>0.0</td>\n",
       "      <td>2.0</td>\n",
       "      <td>64.000000</td>\n",
       "      <td>0.00</td>\n",
       "      <td>0.10</td>\n",
       "      <td>0.0</td>\n",
       "      <td>0.0</td>\n",
       "      <td>Feb</td>\n",
       "      <td>2</td>\n",
       "      <td>2</td>\n",
       "      <td>1</td>\n",
       "      <td>2</td>\n",
       "      <td>Returning_Visitor</td>\n",
       "      <td>False</td>\n",
       "      <td>False</td>\n",
       "    </tr>\n",
       "    <tr>\n",
       "      <th>2</th>\n",
       "      <td>0.0</td>\n",
       "      <td>-1.0</td>\n",
       "      <td>0.0</td>\n",
       "      <td>-1.0</td>\n",
       "      <td>1.0</td>\n",
       "      <td>-1.000000</td>\n",
       "      <td>0.20</td>\n",
       "      <td>0.20</td>\n",
       "      <td>0.0</td>\n",
       "      <td>0.0</td>\n",
       "      <td>Feb</td>\n",
       "      <td>4</td>\n",
       "      <td>1</td>\n",
       "      <td>9</td>\n",
       "      <td>3</td>\n",
       "      <td>Returning_Visitor</td>\n",
       "      <td>False</td>\n",
       "      <td>False</td>\n",
       "    </tr>\n",
       "    <tr>\n",
       "      <th>3</th>\n",
       "      <td>0.0</td>\n",
       "      <td>0.0</td>\n",
       "      <td>0.0</td>\n",
       "      <td>0.0</td>\n",
       "      <td>2.0</td>\n",
       "      <td>2.666667</td>\n",
       "      <td>0.05</td>\n",
       "      <td>0.14</td>\n",
       "      <td>0.0</td>\n",
       "      <td>0.0</td>\n",
       "      <td>Feb</td>\n",
       "      <td>3</td>\n",
       "      <td>2</td>\n",
       "      <td>2</td>\n",
       "      <td>4</td>\n",
       "      <td>Returning_Visitor</td>\n",
       "      <td>False</td>\n",
       "      <td>False</td>\n",
       "    </tr>\n",
       "    <tr>\n",
       "      <th>4</th>\n",
       "      <td>0.0</td>\n",
       "      <td>0.0</td>\n",
       "      <td>0.0</td>\n",
       "      <td>0.0</td>\n",
       "      <td>10.0</td>\n",
       "      <td>627.500000</td>\n",
       "      <td>0.02</td>\n",
       "      <td>0.05</td>\n",
       "      <td>0.0</td>\n",
       "      <td>0.0</td>\n",
       "      <td>Feb</td>\n",
       "      <td>3</td>\n",
       "      <td>3</td>\n",
       "      <td>1</td>\n",
       "      <td>4</td>\n",
       "      <td>Returning_Visitor</td>\n",
       "      <td>True</td>\n",
       "      <td>False</td>\n",
       "    </tr>\n",
       "  </tbody>\n",
       "</table>\n",
       "</div>"
      ],
      "text/plain": [
       "   Administrative  Administrative_Duration  Informational  \\\n",
       "0             0.0                      0.0            0.0   \n",
       "1             0.0                      0.0            0.0   \n",
       "2             0.0                     -1.0            0.0   \n",
       "3             0.0                      0.0            0.0   \n",
       "4             0.0                      0.0            0.0   \n",
       "\n",
       "   Informational_Duration  ProductRelated  ProductRelated_Duration  \\\n",
       "0                     0.0             1.0                 0.000000   \n",
       "1                     0.0             2.0                64.000000   \n",
       "2                    -1.0             1.0                -1.000000   \n",
       "3                     0.0             2.0                 2.666667   \n",
       "4                     0.0            10.0               627.500000   \n",
       "\n",
       "   BounceRates  ExitRates  PageValues  SpecialDay Month  OperatingSystems  \\\n",
       "0         0.20       0.20         0.0         0.0   Feb                 1   \n",
       "1         0.00       0.10         0.0         0.0   Feb                 2   \n",
       "2         0.20       0.20         0.0         0.0   Feb                 4   \n",
       "3         0.05       0.14         0.0         0.0   Feb                 3   \n",
       "4         0.02       0.05         0.0         0.0   Feb                 3   \n",
       "\n",
       "   Browser  Region  TrafficType        VisitorType  Weekend  Revenue  \n",
       "0        1       1            1  Returning_Visitor    False    False  \n",
       "1        2       1            2  Returning_Visitor    False    False  \n",
       "2        1       9            3  Returning_Visitor    False    False  \n",
       "3        2       2            4  Returning_Visitor    False    False  \n",
       "4        3       1            4  Returning_Visitor     True    False  "
      ]
     },
     "execution_count": 336,
     "metadata": {},
     "output_type": "execute_result"
    }
   ],
   "source": [
    "# Carregando os dados\n",
    "\n",
    "df_original = pd.read_csv('online_shoppers_intention.csv')\n",
    "df_original.head()"
   ]
  },
  {
   "cell_type": "markdown",
   "metadata": {},
   "source": [
    "Dicionário de Dados:\n",
    "\n",
    "\"Administrativo\", \"Duração administrativa\", \"Informativo\", \"Duração informativo\", \"Relacionado ao produto\" e \"Duração relacionada ao produto\" representam o número de diferentes tipos de páginas visitadas pelo visitante nessa sessão e o tempo total gasto em cada uma dessas categorias de página. Os valores desses recursos são derivados das informações de URL das páginas visitadas pelo usuário e atualizadas em tempo real quando um usuário executa uma ação, por exemplo, passando de uma página para outra. \n",
    "\n",
    "Os recursos \"Taxa de rejeição\", \"Taxa de saída\" e \"Valor da página\" representam as métricas medidas pelo \"Google Analytics\" para cada página no site de comércio eletrônico. \n",
    "\n",
    "O valor do recurso \"Taxa de rejeição\" de uma página da web refere-se à porcentagem de visitantes que entram no site a partir dessa página e saem (\"rejeição\") sem acionar outras solicitações ao servidor durante essa sessão. \n",
    "\n",
    "O valor do recurso \"Taxa de saída\" para uma página da web específica é calculado como a porcentagem que foi a última na sessão, para todas as exibições de página a página. \n",
    "\n",
    "O recurso \"Valor da página\" representa o valor médio para uma página da web que um usuário visitou antes de concluir uma transação de comércio eletrônico. \n",
    "\n",
    "O recurso \"Dia especial\" indica a proximidade do horário de visita do site a um dia especial específico (por exemplo, dia das mães, dia dos namorados) em que as sessões têm mais probabilidade de serem finalizadas com a transação. O valor desse atributo é determinado considerando a dinâmica do comércio eletrônico, como a duração entre a data do pedido e a data de entrega. Por exemplo, no dia dos namorados, esse valor assume um valor diferente de zero entre 2 e 12 de fevereiro (dia dos namorados nos EUA e Europa), zero antes e depois dessa data, a menos que esteja próximo de outro dia especial e seu valor máximo de 1 em 8 de fevereiro. \n",
    "\n",
    "O conjunto de dados também inclui o tipo de sistema operacional, navegador, região, tipo de tráfego, tipo de visitante como visitante novo ou recorrente, um valor booleano indicando se a data da visita é final de semana e mês do ano.\n",
    "\n",
    "A variável alvo (Revenue) é booleana, com True se a sessão gerou receita e False se não gerou."
   ]
  },
  {
   "cell_type": "markdown",
   "metadata": {},
   "source": [
    "## Análise Exploratória"
   ]
  },
  {
   "cell_type": "code",
   "execution_count": 13,
   "metadata": {},
   "outputs": [
    {
     "data": {
      "text/plain": [
       "(12330, 18)"
      ]
     },
     "execution_count": 13,
     "metadata": {},
     "output_type": "execute_result"
    }
   ],
   "source": [
    "# Shape dos dados\n",
    "\n",
    "df_original.shape"
   ]
  },
  {
   "cell_type": "code",
   "execution_count": 15,
   "metadata": {},
   "outputs": [
    {
     "data": {
      "text/plain": [
       "Administrative             float64\n",
       "Administrative_Duration    float64\n",
       "Informational              float64\n",
       "Informational_Duration     float64\n",
       "ProductRelated             float64\n",
       "ProductRelated_Duration    float64\n",
       "BounceRates                float64\n",
       "ExitRates                  float64\n",
       "PageValues                 float64\n",
       "SpecialDay                 float64\n",
       "Month                       object\n",
       "OperatingSystems             int64\n",
       "Browser                      int64\n",
       "Region                       int64\n",
       "TrafficType                  int64\n",
       "VisitorType                 object\n",
       "Weekend                       bool\n",
       "Revenue                       bool\n",
       "dtype: object"
      ]
     },
     "execution_count": 15,
     "metadata": {},
     "output_type": "execute_result"
    }
   ],
   "source": [
    "# Tipos de Dados\n",
    "\n",
    "df_original.dtypes"
   ]
  },
  {
   "cell_type": "code",
   "execution_count": 17,
   "metadata": {},
   "outputs": [
    {
     "name": "stdout",
     "output_type": "stream",
     "text": [
      "Administrative             14\n",
      "Administrative_Duration    14\n",
      "Informational              14\n",
      "Informational_Duration     14\n",
      "ProductRelated             14\n",
      "ProductRelated_Duration    14\n",
      "BounceRates                14\n",
      "ExitRates                  14\n",
      "PageValues                  0\n",
      "SpecialDay                  0\n",
      "Month                       0\n",
      "OperatingSystems            0\n",
      "Browser                     0\n",
      "Region                      0\n",
      "TrafficType                 0\n",
      "VisitorType                 0\n",
      "Weekend                     0\n",
      "Revenue                     0\n",
      "dtype: int64\n"
     ]
    }
   ],
   "source": [
    "# Verificando valores missing\n",
    "\n",
    "print(df_original.isna().sum())"
   ]
  },
  {
   "cell_type": "code",
   "execution_count": 21,
   "metadata": {},
   "outputs": [],
   "source": [
    "# Removendo as linhas com valores missing\n",
    "# vamos excluir esses valores, porque 14 dados dentro de um volume de mais de 12 mil linhas, nesse caso\n",
    "# não vai fazer diferença.\n",
    "\n",
    "df_original.dropna(inplace = True)"
   ]
  },
  {
   "cell_type": "code",
   "execution_count": 23,
   "metadata": {},
   "outputs": [
    {
     "name": "stdout",
     "output_type": "stream",
     "text": [
      "Administrative             0\n",
      "Administrative_Duration    0\n",
      "Informational              0\n",
      "Informational_Duration     0\n",
      "ProductRelated             0\n",
      "ProductRelated_Duration    0\n",
      "BounceRates                0\n",
      "ExitRates                  0\n",
      "PageValues                 0\n",
      "SpecialDay                 0\n",
      "Month                      0\n",
      "OperatingSystems           0\n",
      "Browser                    0\n",
      "Region                     0\n",
      "TrafficType                0\n",
      "VisitorType                0\n",
      "Weekend                    0\n",
      "Revenue                    0\n",
      "dtype: int64\n"
     ]
    }
   ],
   "source": [
    "# Verificando valores missing\n",
    "\n",
    "print(df_original.isna().sum())"
   ]
  },
  {
   "cell_type": "code",
   "execution_count": 25,
   "metadata": {},
   "outputs": [
    {
     "data": {
      "text/plain": [
       "(12316, 18)"
      ]
     },
     "execution_count": 25,
     "metadata": {},
     "output_type": "execute_result"
    }
   ],
   "source": [
    "# Shape\n",
    "\n",
    "df_original.shape"
   ]
  },
  {
   "cell_type": "code",
   "execution_count": 27,
   "metadata": {},
   "outputs": [
    {
     "data": {
      "text/plain": [
       "Administrative               27\n",
       "Administrative_Duration    3336\n",
       "Informational                17\n",
       "Informational_Duration     1259\n",
       "ProductRelated              311\n",
       "ProductRelated_Duration    9552\n",
       "BounceRates                1872\n",
       "ExitRates                  4777\n",
       "PageValues                 2704\n",
       "SpecialDay                    6\n",
       "Month                        10\n",
       "OperatingSystems              8\n",
       "Browser                      13\n",
       "Region                        9\n",
       "TrafficType                  20\n",
       "VisitorType                   3\n",
       "Weekend                       2\n",
       "Revenue                       2\n",
       "dtype: int64"
      ]
     },
     "execution_count": 27,
     "metadata": {},
     "output_type": "execute_result"
    }
   ],
   "source": [
    "# Verificando Valores Únicos\n",
    "\n",
    "df_original.nunique()"
   ]
  },
  {
   "cell_type": "markdown",
   "metadata": {},
   "source": [
    "Variáves categóricas são aquelas do tipo String, variáveis contínuas são as variáveis numéricas. Portanto, as categóricas, vamos fazer um tratamento diferenciado para elas."
   ]
  },
  {
   "cell_type": "markdown",
   "metadata": {},
   "source": [
    "Para fins de visualização, dividirei os dados em variáveis contínuas e categóricas. Tratarei todas as variáveis com menos de 30 entradas únicas como categóricas."
   ]
  },
  {
   "cell_type": "code",
   "execution_count": 32,
   "metadata": {},
   "outputs": [],
   "source": [
    "# Preparando os dados para o plot\n",
    "\n",
    "# Cria uma cópia do dataset original\n",
    "df = df_original.copy()\n",
    "\n",
    "# Listas vazias para os resultados\n",
    "continuous = []\n",
    "categorical = []\n",
    "\n",
    "# Loop pelas colunas\n",
    "for c in df.columns[:-1]:\n",
    "    if df.nunique()[c] >= 30:\n",
    "        continuous.append(c)\n",
    "    else:\n",
    "        categorical.append(c)"
   ]
  },
  {
   "cell_type": "code",
   "execution_count": 34,
   "metadata": {},
   "outputs": [
    {
     "data": {
      "text/plain": [
       "['Administrative_Duration',\n",
       " 'Informational_Duration',\n",
       " 'ProductRelated',\n",
       " 'ProductRelated_Duration',\n",
       " 'BounceRates',\n",
       " 'ExitRates',\n",
       " 'PageValues']"
      ]
     },
     "execution_count": 34,
     "metadata": {},
     "output_type": "execute_result"
    }
   ],
   "source": [
    "continuous"
   ]
  },
  {
   "cell_type": "code",
   "execution_count": 36,
   "metadata": {},
   "outputs": [
    {
     "data": {
      "text/plain": [
       "['Administrative',\n",
       " 'Informational',\n",
       " 'SpecialDay',\n",
       " 'Month',\n",
       " 'OperatingSystems',\n",
       " 'Browser',\n",
       " 'Region',\n",
       " 'TrafficType',\n",
       " 'VisitorType',\n",
       " 'Weekend']"
      ]
     },
     "execution_count": 36,
     "metadata": {},
     "output_type": "execute_result"
    }
   ],
   "source": [
    "categorical"
   ]
  },
  {
   "cell_type": "code",
   "execution_count": 38,
   "metadata": {},
   "outputs": [
    {
     "data": {
      "text/html": [
       "<div>\n",
       "<style scoped>\n",
       "    .dataframe tbody tr th:only-of-type {\n",
       "        vertical-align: middle;\n",
       "    }\n",
       "\n",
       "    .dataframe tbody tr th {\n",
       "        vertical-align: top;\n",
       "    }\n",
       "\n",
       "    .dataframe thead th {\n",
       "        text-align: right;\n",
       "    }\n",
       "</style>\n",
       "<table border=\"1\" class=\"dataframe\">\n",
       "  <thead>\n",
       "    <tr style=\"text-align: right;\">\n",
       "      <th></th>\n",
       "      <th>Administrative_Duration</th>\n",
       "      <th>Informational_Duration</th>\n",
       "      <th>ProductRelated</th>\n",
       "      <th>ProductRelated_Duration</th>\n",
       "      <th>BounceRates</th>\n",
       "      <th>ExitRates</th>\n",
       "      <th>PageValues</th>\n",
       "    </tr>\n",
       "  </thead>\n",
       "  <tbody>\n",
       "    <tr>\n",
       "      <th>0</th>\n",
       "      <td>0.0</td>\n",
       "      <td>0.0</td>\n",
       "      <td>1.0</td>\n",
       "      <td>0.000000</td>\n",
       "      <td>0.20</td>\n",
       "      <td>0.20</td>\n",
       "      <td>0.0</td>\n",
       "    </tr>\n",
       "    <tr>\n",
       "      <th>1</th>\n",
       "      <td>0.0</td>\n",
       "      <td>0.0</td>\n",
       "      <td>2.0</td>\n",
       "      <td>64.000000</td>\n",
       "      <td>0.00</td>\n",
       "      <td>0.10</td>\n",
       "      <td>0.0</td>\n",
       "    </tr>\n",
       "    <tr>\n",
       "      <th>2</th>\n",
       "      <td>-1.0</td>\n",
       "      <td>-1.0</td>\n",
       "      <td>1.0</td>\n",
       "      <td>-1.000000</td>\n",
       "      <td>0.20</td>\n",
       "      <td>0.20</td>\n",
       "      <td>0.0</td>\n",
       "    </tr>\n",
       "    <tr>\n",
       "      <th>3</th>\n",
       "      <td>0.0</td>\n",
       "      <td>0.0</td>\n",
       "      <td>2.0</td>\n",
       "      <td>2.666667</td>\n",
       "      <td>0.05</td>\n",
       "      <td>0.14</td>\n",
       "      <td>0.0</td>\n",
       "    </tr>\n",
       "    <tr>\n",
       "      <th>4</th>\n",
       "      <td>0.0</td>\n",
       "      <td>0.0</td>\n",
       "      <td>10.0</td>\n",
       "      <td>627.500000</td>\n",
       "      <td>0.02</td>\n",
       "      <td>0.05</td>\n",
       "      <td>0.0</td>\n",
       "    </tr>\n",
       "  </tbody>\n",
       "</table>\n",
       "</div>"
      ],
      "text/plain": [
       "   Administrative_Duration  Informational_Duration  ProductRelated  \\\n",
       "0                      0.0                     0.0             1.0   \n",
       "1                      0.0                     0.0             2.0   \n",
       "2                     -1.0                    -1.0             1.0   \n",
       "3                      0.0                     0.0             2.0   \n",
       "4                      0.0                     0.0            10.0   \n",
       "\n",
       "   ProductRelated_Duration  BounceRates  ExitRates  PageValues  \n",
       "0                 0.000000         0.20       0.20         0.0  \n",
       "1                64.000000         0.00       0.10         0.0  \n",
       "2                -1.000000         0.20       0.20         0.0  \n",
       "3                 2.666667         0.05       0.14         0.0  \n",
       "4               627.500000         0.02       0.05         0.0  "
      ]
     },
     "execution_count": 38,
     "metadata": {},
     "output_type": "execute_result"
    }
   ],
   "source": [
    "# Variáveis contínuas\n",
    "\n",
    "df[continuous].head()"
   ]
  },
  {
   "cell_type": "code",
   "execution_count": 40,
   "metadata": {},
   "outputs": [
    {
     "data": {
      "text/html": [
       "<div>\n",
       "<style scoped>\n",
       "    .dataframe tbody tr th:only-of-type {\n",
       "        vertical-align: middle;\n",
       "    }\n",
       "\n",
       "    .dataframe tbody tr th {\n",
       "        vertical-align: top;\n",
       "    }\n",
       "\n",
       "    .dataframe thead th {\n",
       "        text-align: right;\n",
       "    }\n",
       "</style>\n",
       "<table border=\"1\" class=\"dataframe\">\n",
       "  <thead>\n",
       "    <tr style=\"text-align: right;\">\n",
       "      <th></th>\n",
       "      <th>Administrative</th>\n",
       "      <th>Informational</th>\n",
       "      <th>SpecialDay</th>\n",
       "      <th>Month</th>\n",
       "      <th>OperatingSystems</th>\n",
       "      <th>Browser</th>\n",
       "      <th>Region</th>\n",
       "      <th>TrafficType</th>\n",
       "      <th>VisitorType</th>\n",
       "      <th>Weekend</th>\n",
       "    </tr>\n",
       "  </thead>\n",
       "  <tbody>\n",
       "    <tr>\n",
       "      <th>0</th>\n",
       "      <td>0.0</td>\n",
       "      <td>0.0</td>\n",
       "      <td>0.0</td>\n",
       "      <td>Feb</td>\n",
       "      <td>1</td>\n",
       "      <td>1</td>\n",
       "      <td>1</td>\n",
       "      <td>1</td>\n",
       "      <td>Returning_Visitor</td>\n",
       "      <td>False</td>\n",
       "    </tr>\n",
       "    <tr>\n",
       "      <th>1</th>\n",
       "      <td>0.0</td>\n",
       "      <td>0.0</td>\n",
       "      <td>0.0</td>\n",
       "      <td>Feb</td>\n",
       "      <td>2</td>\n",
       "      <td>2</td>\n",
       "      <td>1</td>\n",
       "      <td>2</td>\n",
       "      <td>Returning_Visitor</td>\n",
       "      <td>False</td>\n",
       "    </tr>\n",
       "    <tr>\n",
       "      <th>2</th>\n",
       "      <td>0.0</td>\n",
       "      <td>0.0</td>\n",
       "      <td>0.0</td>\n",
       "      <td>Feb</td>\n",
       "      <td>4</td>\n",
       "      <td>1</td>\n",
       "      <td>9</td>\n",
       "      <td>3</td>\n",
       "      <td>Returning_Visitor</td>\n",
       "      <td>False</td>\n",
       "    </tr>\n",
       "    <tr>\n",
       "      <th>3</th>\n",
       "      <td>0.0</td>\n",
       "      <td>0.0</td>\n",
       "      <td>0.0</td>\n",
       "      <td>Feb</td>\n",
       "      <td>3</td>\n",
       "      <td>2</td>\n",
       "      <td>2</td>\n",
       "      <td>4</td>\n",
       "      <td>Returning_Visitor</td>\n",
       "      <td>False</td>\n",
       "    </tr>\n",
       "    <tr>\n",
       "      <th>4</th>\n",
       "      <td>0.0</td>\n",
       "      <td>0.0</td>\n",
       "      <td>0.0</td>\n",
       "      <td>Feb</td>\n",
       "      <td>3</td>\n",
       "      <td>3</td>\n",
       "      <td>1</td>\n",
       "      <td>4</td>\n",
       "      <td>Returning_Visitor</td>\n",
       "      <td>True</td>\n",
       "    </tr>\n",
       "  </tbody>\n",
       "</table>\n",
       "</div>"
      ],
      "text/plain": [
       "   Administrative  Informational  SpecialDay Month  OperatingSystems  Browser  \\\n",
       "0             0.0            0.0         0.0   Feb                 1        1   \n",
       "1             0.0            0.0         0.0   Feb                 2        2   \n",
       "2             0.0            0.0         0.0   Feb                 4        1   \n",
       "3             0.0            0.0         0.0   Feb                 3        2   \n",
       "4             0.0            0.0         0.0   Feb                 3        3   \n",
       "\n",
       "   Region  TrafficType        VisitorType  Weekend  \n",
       "0       1            1  Returning_Visitor    False  \n",
       "1       1            2  Returning_Visitor    False  \n",
       "2       9            3  Returning_Visitor    False  \n",
       "3       2            4  Returning_Visitor    False  \n",
       "4       1            4  Returning_Visitor     True  "
      ]
     },
     "execution_count": 40,
     "metadata": {},
     "output_type": "execute_result"
    }
   ],
   "source": [
    "# Variáveis categóricas\n",
    "\n",
    "df[categorical].head()"
   ]
  },
  {
   "cell_type": "markdown",
   "metadata": {},
   "source": [
    "### Gráficos para variáveis numéricas."
   ]
  },
  {
   "cell_type": "code",
   "execution_count": 42,
   "metadata": {},
   "outputs": [
    {
     "data": {
      "image/png": "[encoded data removed]",
      "text/plain": [
       "<Figure size 1200x800 with 7 Axes>"
      ]
     },
     "metadata": {},
     "output_type": "display_data"
    }
   ],
   "source": [
    "# Plot das variáveis contínuas\n",
    "\n",
    "# Tamanho da área de plotagem\n",
    "fig = plt.figure(figsize = (12,8))\n",
    "\n",
    "# Loop pelas variáveis contínuas\n",
    "for i, col in enumerate(continuous):\n",
    "    plt.subplot(3, 3, i + 1);\n",
    "    df.boxplot(col);\n",
    "    plt.tight_layout()\n",
    "    \n",
    "# Podemos salvar também nossa imagem dos BoxPlosts    \n",
    "plt.savefig('boxplot1.png')"
   ]
  },
  {
   "cell_type": "markdown",
   "metadata": {},
   "source": [
    "<p> As variáveis contínuas parecem extremamente distorcidas. Vou aplicar transformação de log (logaritmo) para melhor visualização desses dados."
   ]
  },
  {
   "cell_type": "code",
   "execution_count": 45,
   "metadata": {},
   "outputs": [],
   "source": [
    "# Transformação de log nas variáveis contínuas\n",
    "\n",
    "df[continuous] = np.log1p(1 + df[continuous])"
   ]
  },
  {
   "cell_type": "code",
   "execution_count": 47,
   "metadata": {},
   "outputs": [
    {
     "data": {
      "image/png": "[encoded data removed]",
      "text/plain": [
       "<Figure size 1200x800 with 7 Axes>"
      ]
     },
     "metadata": {},
     "output_type": "display_data"
    }
   ],
   "source": [
    "# Plot das variáveis contínuas\n",
    "\n",
    "# Tamanho da área de plotagem\n",
    "fig = plt.figure(figsize = (12,8))\n",
    "\n",
    "# Loop pelas variáveis contínuas\n",
    "for i,col in enumerate(continuous):\n",
    "    plt.subplot(3,3,i+1);\n",
    "    df.boxplot(col);\n",
    "    plt.tight_layout()\n",
    "plt.savefig('boxplot2.png')"
   ]
  },
  {
   "cell_type": "markdown",
   "metadata": {},
   "source": [
    "Matriz de Correlação Entre Variáveis Contínuas."
   ]
  },
  {
   "cell_type": "code",
   "execution_count": 51,
   "metadata": {},
   "outputs": [
    {
     "data": {
      "image/png": "[encoded data removed]",
      "text/plain": [
       "<Figure size 700x700 with 2 Axes>"
      ]
     },
     "metadata": {},
     "output_type": "display_data"
    }
   ],
   "source": [
    "# Área de plotagem\n",
    "plt.figure(figsize = (7,7))\n",
    "\n",
    "# Matriz de Correlação \n",
    "sns.heatmap(df[['Administrative_Duration',\n",
    "                'Informational_Duration',  \n",
    "                'ProductRelated_Duration',\n",
    "                'BounceRates', \n",
    "                'ExitRates', \n",
    "                'PageValues',\n",
    "                'Revenue']].corr(), vmax = 1., square = True)\n",
    "plt.show()"
   ]
  },
  {
   "cell_type": "markdown",
   "metadata": {},
   "source": [
    "Visualização de gráficos de variáveis categóricas para analisar como a variável de destino é influenciada por elas."
   ]
  },
  {
   "cell_type": "code",
   "execution_count": 90,
   "metadata": {},
   "outputs": [
    {
     "data": {
      "image/png": "[encoded data removed]",
      "text/plain": [
       "<Figure size 640x480 with 1 Axes>"
      ]
     },
     "metadata": {},
     "output_type": "display_data"
    }
   ],
   "source": [
    "# Countplot Venda ou Não\n",
    "# warnings.filterwarnings(\"ignore\", category=FutureWarning)\n",
    "# Aqui nesse gráfico conseguimos ver a diferença do público de vendas e de não vendas\n",
    "\n",
    "plt.subplot(1, 2, 2)\n",
    "plt.title(\"Venda ou Não\")  \n",
    "sns.countplot(x='Revenue', data=df)\n",
    "plt.show()\n",
    "\n"
   ]
  },
  {
   "cell_type": "code",
   "execution_count": 80,
   "metadata": {},
   "outputs": [
    {
     "data": {
      "image/png": "[encoded data removed]",
      "text/plain": [
       "<Figure size 600x500 with 1 Axes>"
      ]
     },
     "metadata": {},
     "output_type": "display_data"
    }
   ],
   "source": [
    "plt.figure(figsize=(6, 5))  # Ajusta o tamanho do gráfico\n",
    "\n",
    "# Gráfico de barras horizontais com cores diferentes\n",
    "sns.countplot(y='VisitorType', \n",
    "              data=df, \n",
    "              palette='viridis',  # Esquema de cores diferente\n",
    "              order=df['VisitorType'].value_counts().index)  # Ordena por frequência\n",
    "\n",
    "# Melhorando os rótulos e título\n",
    "plt.xlabel('Contagem de Visitantes', fontsize=12)\n",
    "plt.ylabel('Tipo de Visitante', fontsize=12)\n",
    "plt.title('Distribuição de Tipos de Visitantes', fontsize=14, pad=20)\n",
    "\n",
    "# Adiciona os valores nas barras\n",
    "for p in plt.gca().patches:\n",
    "    width = p.get_width()\n",
    "    plt.gca().annotate(f'{int(width)}', \n",
    "                      (width, p.get_y() + p.get_height()/2.),\n",
    "                      ha='left', va='center',\n",
    "                      xytext=(5, 0),\n",
    "                      textcoords='offset points')\n",
    "\n",
    "plt.tight_layout()  # Ajusta o layout para evitar cortes\n",
    "plt.show()"
   ]
  },
  {
   "cell_type": "code",
   "execution_count": 76,
   "metadata": {},
   "outputs": [
    {
     "data": {
      "image/png": "[encoded data removed]",
      "text/plain": [
       "<Figure size 700x500 with 1 Axes>"
      ]
     },
     "metadata": {},
     "output_type": "display_data"
    }
   ],
   "source": [
    "# Configuração do gráfico\n",
    "plt.figure(figsize=(7, 5))\n",
    "\n",
    "# Gráfico de barras VERTICAIS (padrão)\n",
    "ax = sns.countplot(x='VisitorType', \n",
    "                   data=df, \n",
    "                   palette='viridis',  # Cores diferentes\n",
    "                   order=df['VisitorType'].value_counts().index)  # Ordena por frequência\n",
    "\n",
    "# Personalização\n",
    "plt.xlabel(\"Tipo de Visitante\", fontsize=12)\n",
    "plt.ylabel(\"Contagem de Visitantes\", fontsize=12)\n",
    "plt.title(\"Distribuição por Tipo de Visitante\", fontsize=14)\n",
    "\n",
    "# Adiciona os valores no topo das barras\n",
    "for p in ax.patches:\n",
    "    height = p.get_height()\n",
    "    ax.text(p.get_x() + p.get_width()/2., \n",
    "            height + 5,  # Posiciona o texto acima da barra\n",
    "            f'{int(height)}', \n",
    "            ha='center', \n",
    "            va='bottom')\n",
    "\n",
    "plt.xticks(rotation=45)  # Rotaciona rótulos do eixo X se necessário\n",
    "plt.tight_layout()  # Ajusta o layout\n",
    "plt.show()"
   ]
  },
  {
   "cell_type": "code",
   "execution_count": 92,
   "metadata": {},
   "outputs": [
    {
     "data": {
      "image/png": "[encoded data removed]",
      "text/plain": [
       "<Figure size 700x500 with 1 Axes>"
      ]
     },
     "metadata": {},
     "output_type": "display_data"
    }
   ],
   "source": [
    "# Stacked Bar Tipo de Visitante x Revenue\n",
    "# Aqui conseguimos ver a diferença de vendas e não vendas dentro dos tipos de públicos.\n",
    "\n",
    "pd.crosstab(df['VisitorType'], df['Revenue']).plot(kind = 'bar', \n",
    "                                                   stacked = True, \n",
    "                                                   figsize = (7, 5), \n",
    "                                                   color = ['red', 'green'])\n",
    "plt.show()"
   ]
  },
  {
   "cell_type": "code",
   "execution_count": 100,
   "metadata": {},
   "outputs": [
    {
     "data": {
      "image/png": "[encoded data removed]",
      "text/plain": [
       "<Figure size 640x480 with 1 Axes>"
      ]
     },
     "metadata": {},
     "output_type": "display_data"
    }
   ],
   "source": [
    "# Gráfico de Pizza de Tipos de Visitantes\n",
    "# Aqui nós temos um outro tipo de visualização\n",
    "\n",
    "labels = ['Visitante_Retornando', 'Novo_Visitante', 'Outro']\n",
    "plt.title(\"Tipos de Visitantes\")\n",
    "plt.pie(df['VisitorType'].value_counts(), labels = labels, autopct = '%.2f%%')\n",
    "plt.legend()\n",
    "plt.show()"
   ]
  },
  {
   "cell_type": "code",
   "execution_count": 112,
   "metadata": {},
   "outputs": [
    {
     "data": {
      "image/png": "[encoded data removed]",
      "text/plain": [
       "<Figure size 600x400 with 1 Axes>"
      ]
     },
     "metadata": {},
     "output_type": "display_data"
    }
   ],
   "source": [
    "# Countplot Final de Semana ou Não\n",
    "\n",
    "plt.figure(figsize=(6, 4))\n",
    "plt.subplot(1, 2, 1)\n",
    "plt.title(\"Final de Semana ou Não\", pad=20)  # pad adiciona espaçamento\n",
    "ax = sns.countplot(x='Weekend', data=df, palette='coolwarm')\n",
    "\n",
    "# Adiciona valores nas barras\n",
    "for p in ax.patches:\n",
    "    ax.annotate(f'{p.get_height()}', \n",
    "                (p.get_x() + p.get_width()/2., p.get_height()), \n",
    "                ha='center', va='center', \n",
    "                xytext=(0, 5), \n",
    "                textcoords='offset points')\n",
    "    \n",
    "plt.tight_layout()  # Ajusta automaticamente os espaços\n",
    "plt.show()"
   ]
  },
  {
   "cell_type": "code",
   "execution_count": 118,
   "metadata": {},
   "outputs": [
    {
     "data": {
      "image/png": "[encoded data removed]",
      "text/plain": [
       "<Figure size 700x300 with 1 Axes>"
      ]
     },
     "metadata": {},
     "output_type": "display_data"
    }
   ],
   "source": [
    "# Stacked Bar Final de Semana x Revenue\n",
    "\n",
    "pd.crosstab(df['Weekend'], df['Revenue']).plot(kind = 'bar', \n",
    "                                               stacked = True, \n",
    "                                               figsize = (7, 3), \n",
    "                                               color = ['red', 'green'])\n",
    "plt.show()"
   ]
  },
  {
   "cell_type": "code",
   "execution_count": 136,
   "metadata": {},
   "outputs": [
    {
     "data": {
      "image/png": "[encoded data removed]",
      "text/plain": [
       "<Figure size 600x400 with 1 Axes>"
      ]
     },
     "metadata": {},
     "output_type": "display_data"
    }
   ],
   "source": [
    "# Countplot Tipos de Sistemas Operacionais\n",
    "# Nós não temos os nomes dos sistemas operacionais porque o arquivo foi disponibilizado sem o nome. Podemos deduzir que o \n",
    "# que apresenta maior contagem provavelmente é o sistema operacional windows porque é o sistema operacional que mais tem no mercado.\n",
    "\n",
    "plt.figure(figsize=(6, 4)) \n",
    "\n",
    "#  personalizações\n",
    "ax = sns.countplot(x='OperatingSystems', \n",
    "                   data=df,\n",
    "                   palette='viridis',  # Esquema de cores mais claro\n",
    "                   order=df['OperatingSystems'].value_counts().index)  # Ordena por frequência\n",
    "\n",
    "# Melhorando os títulos e rótulos\n",
    "plt.title(\"Distribuição de Sistemas Operacionais\", fontsize=14, pad=20)\n",
    "plt.xlabel(\"Tipo de Sistema Operacional\", fontsize=12)\n",
    "plt.ylabel(\"Contagem de Usuários\", fontsize=12)\n",
    "\n",
    "# Adicionando os valores em cada barra\n",
    "for p in ax.patches:\n",
    "    ax.annotate(f'{p.get_height()}', \n",
    "                (p.get_x() + p.get_width()/2., p.get_height()), \n",
    "                ha='center', va='center', \n",
    "                xytext=(0, 5), \n",
    "                textcoords='offset points')\n",
    "\n",
    "# Melhorando os ticks do eixo X\n",
    "plt.xticks(rotation=45, ha='right')  # Rotaciona 45 graus para melhor leitura\n",
    "\n",
    "plt.tight_layout()  # Ajusta o layout automaticamente\n",
    "plt.show()"
   ]
  },
  {
   "cell_type": "code",
   "execution_count": 138,
   "metadata": {},
   "outputs": [
    {
     "data": {
      "image/png": "[encoded data removed]",
      "text/plain": [
       "<Figure size 800x500 with 1 Axes>"
      ]
     },
     "metadata": {},
     "output_type": "display_data"
    }
   ],
   "source": [
    "# Stacked Bar Tipo de SO x Revenue\n",
    "\n",
    "pd.crosstab(df['OperatingSystems'], df['Revenue']).plot(kind = 'bar', \n",
    "                                                        stacked = True, \n",
    "                                                        figsize = (8, 5), \n",
    "                                                        color = ['red', 'green'])\n",
    "plt.show()"
   ]
  },
  {
   "cell_type": "code",
   "execution_count": 154,
   "metadata": {},
   "outputs": [
    {
     "data": {
      "image/png": "[encoded data removed]",
      "text/plain": [
       "<Figure size 800x400 with 1 Axes>"
      ]
     },
     "metadata": {},
     "output_type": "display_data"
    }
   ],
   "source": [
    "# Countplot Tipo de Tráfego\n",
    "\n",
    "plt.figure(figsize=(8, 4))  # Definindo o tamanho adequado\n",
    "\n",
    "# Criando o gráfico com tratamento para possíveis erros\n",
    "ax = sns.countplot(x='TrafficType', \n",
    "                   data=df,\n",
    "                   palette='Set2',  # Paleta de cores mais acessível\n",
    "                   order=df['TrafficType'].value_counts().index)  # Ordenando por frequência\n",
    "\n",
    "# Adicionando títulos e rótulos com formatação\n",
    "plt.title(\"Distribuição dos Tipos de Tráfego\", fontsize=14, pad=20)\n",
    "plt.xlabel(\"Código do Tipo de Tráfego\", fontsize=12)\n",
    "plt.ylabel(\"Número de Acessos\", fontsize=12)\n",
    "\n",
    "# Adicionando os valores nas barras\n",
    "for p in ax.patches:\n",
    "    ax.annotate(f'{p.get_height():.0f}', \n",
    "                (p.get_x() + p.get_width()/2., p.get_height()), \n",
    "                ha='center', va='center', \n",
    "                xytext=(0, 5), \n",
    "                textcoords='offset points',\n",
    "                fontsize=10)\n",
    "\n",
    "# Ajustando os rótulos do eixo X\n",
    "plt.xticks(rotation=45, ha='right')  # Rotação para melhor legibilidade\n",
    "\n",
    "plt.tight_layout()  # Ajuste automático do layout\n",
    "plt.show()"
   ]
  },
  {
   "cell_type": "code",
   "execution_count": 142,
   "metadata": {},
   "outputs": [
    {
     "data": {
      "image/png": "[encoded data removed]",
      "text/plain": [
       "<Figure size 600x400 with 1 Axes>"
      ]
     },
     "metadata": {},
     "output_type": "display_data"
    }
   ],
   "source": [
    "# Stacked Bar Tipos de Tráfego x Revenue\n",
    "\n",
    "pd.crosstab(df['TrafficType'], df['Revenue']).plot(kind = 'bar', \n",
    "                                                   stacked = True, \n",
    "                                                   figsize = (6, 4), \n",
    "                                                   color = ['red', 'green'])\n",
    "plt.show()"
   ]
  },
  {
   "cell_type": "markdown",
   "metadata": {},
   "source": [
    "## Pré-Processamento dos Dados"
   ]
  },
  {
   "cell_type": "code",
   "execution_count": 156,
   "metadata": {},
   "outputs": [
    {
     "data": {
      "text/html": [
       "<div>\n",
       "<style scoped>\n",
       "    .dataframe tbody tr th:only-of-type {\n",
       "        vertical-align: middle;\n",
       "    }\n",
       "\n",
       "    .dataframe tbody tr th {\n",
       "        vertical-align: top;\n",
       "    }\n",
       "\n",
       "    .dataframe thead th {\n",
       "        text-align: right;\n",
       "    }\n",
       "</style>\n",
       "<table border=\"1\" class=\"dataframe\">\n",
       "  <thead>\n",
       "    <tr style=\"text-align: right;\">\n",
       "      <th></th>\n",
       "      <th>Administrative</th>\n",
       "      <th>Administrative_Duration</th>\n",
       "      <th>Informational</th>\n",
       "      <th>Informational_Duration</th>\n",
       "      <th>ProductRelated</th>\n",
       "      <th>ProductRelated_Duration</th>\n",
       "      <th>BounceRates</th>\n",
       "      <th>ExitRates</th>\n",
       "      <th>PageValues</th>\n",
       "      <th>SpecialDay</th>\n",
       "      <th>Month</th>\n",
       "      <th>OperatingSystems</th>\n",
       "      <th>Browser</th>\n",
       "      <th>Region</th>\n",
       "      <th>TrafficType</th>\n",
       "      <th>VisitorType</th>\n",
       "      <th>Weekend</th>\n",
       "      <th>Revenue</th>\n",
       "    </tr>\n",
       "  </thead>\n",
       "  <tbody>\n",
       "    <tr>\n",
       "      <th>0</th>\n",
       "      <td>0.0</td>\n",
       "      <td>0.0</td>\n",
       "      <td>0.0</td>\n",
       "      <td>0.0</td>\n",
       "      <td>1.0</td>\n",
       "      <td>0.000000</td>\n",
       "      <td>0.20</td>\n",
       "      <td>0.20</td>\n",
       "      <td>0.0</td>\n",
       "      <td>0.0</td>\n",
       "      <td>Feb</td>\n",
       "      <td>1</td>\n",
       "      <td>1</td>\n",
       "      <td>1</td>\n",
       "      <td>1</td>\n",
       "      <td>Returning_Visitor</td>\n",
       "      <td>False</td>\n",
       "      <td>False</td>\n",
       "    </tr>\n",
       "    <tr>\n",
       "      <th>1</th>\n",
       "      <td>0.0</td>\n",
       "      <td>0.0</td>\n",
       "      <td>0.0</td>\n",
       "      <td>0.0</td>\n",
       "      <td>2.0</td>\n",
       "      <td>64.000000</td>\n",
       "      <td>0.00</td>\n",
       "      <td>0.10</td>\n",
       "      <td>0.0</td>\n",
       "      <td>0.0</td>\n",
       "      <td>Feb</td>\n",
       "      <td>2</td>\n",
       "      <td>2</td>\n",
       "      <td>1</td>\n",
       "      <td>2</td>\n",
       "      <td>Returning_Visitor</td>\n",
       "      <td>False</td>\n",
       "      <td>False</td>\n",
       "    </tr>\n",
       "    <tr>\n",
       "      <th>2</th>\n",
       "      <td>0.0</td>\n",
       "      <td>-1.0</td>\n",
       "      <td>0.0</td>\n",
       "      <td>-1.0</td>\n",
       "      <td>1.0</td>\n",
       "      <td>-1.000000</td>\n",
       "      <td>0.20</td>\n",
       "      <td>0.20</td>\n",
       "      <td>0.0</td>\n",
       "      <td>0.0</td>\n",
       "      <td>Feb</td>\n",
       "      <td>4</td>\n",
       "      <td>1</td>\n",
       "      <td>9</td>\n",
       "      <td>3</td>\n",
       "      <td>Returning_Visitor</td>\n",
       "      <td>False</td>\n",
       "      <td>False</td>\n",
       "    </tr>\n",
       "    <tr>\n",
       "      <th>3</th>\n",
       "      <td>0.0</td>\n",
       "      <td>0.0</td>\n",
       "      <td>0.0</td>\n",
       "      <td>0.0</td>\n",
       "      <td>2.0</td>\n",
       "      <td>2.666667</td>\n",
       "      <td>0.05</td>\n",
       "      <td>0.14</td>\n",
       "      <td>0.0</td>\n",
       "      <td>0.0</td>\n",
       "      <td>Feb</td>\n",
       "      <td>3</td>\n",
       "      <td>2</td>\n",
       "      <td>2</td>\n",
       "      <td>4</td>\n",
       "      <td>Returning_Visitor</td>\n",
       "      <td>False</td>\n",
       "      <td>False</td>\n",
       "    </tr>\n",
       "    <tr>\n",
       "      <th>4</th>\n",
       "      <td>0.0</td>\n",
       "      <td>0.0</td>\n",
       "      <td>0.0</td>\n",
       "      <td>0.0</td>\n",
       "      <td>10.0</td>\n",
       "      <td>627.500000</td>\n",
       "      <td>0.02</td>\n",
       "      <td>0.05</td>\n",
       "      <td>0.0</td>\n",
       "      <td>0.0</td>\n",
       "      <td>Feb</td>\n",
       "      <td>3</td>\n",
       "      <td>3</td>\n",
       "      <td>1</td>\n",
       "      <td>4</td>\n",
       "      <td>Returning_Visitor</td>\n",
       "      <td>True</td>\n",
       "      <td>False</td>\n",
       "    </tr>\n",
       "  </tbody>\n",
       "</table>\n",
       "</div>"
      ],
      "text/plain": [
       "   Administrative  Administrative_Duration  Informational  \\\n",
       "0             0.0                      0.0            0.0   \n",
       "1             0.0                      0.0            0.0   \n",
       "2             0.0                     -1.0            0.0   \n",
       "3             0.0                      0.0            0.0   \n",
       "4             0.0                      0.0            0.0   \n",
       "\n",
       "   Informational_Duration  ProductRelated  ProductRelated_Duration  \\\n",
       "0                     0.0             1.0                 0.000000   \n",
       "1                     0.0             2.0                64.000000   \n",
       "2                    -1.0             1.0                -1.000000   \n",
       "3                     0.0             2.0                 2.666667   \n",
       "4                     0.0            10.0               627.500000   \n",
       "\n",
       "   BounceRates  ExitRates  PageValues  SpecialDay Month  OperatingSystems  \\\n",
       "0         0.20       0.20         0.0         0.0   Feb                 1   \n",
       "1         0.00       0.10         0.0         0.0   Feb                 2   \n",
       "2         0.20       0.20         0.0         0.0   Feb                 4   \n",
       "3         0.05       0.14         0.0         0.0   Feb                 3   \n",
       "4         0.02       0.05         0.0         0.0   Feb                 3   \n",
       "\n",
       "   Browser  Region  TrafficType        VisitorType  Weekend  Revenue  \n",
       "0        1       1            1  Returning_Visitor    False    False  \n",
       "1        2       1            2  Returning_Visitor    False    False  \n",
       "2        1       9            3  Returning_Visitor    False    False  \n",
       "3        2       2            4  Returning_Visitor    False    False  \n",
       "4        3       1            4  Returning_Visitor     True    False  "
      ]
     },
     "execution_count": 156,
     "metadata": {},
     "output_type": "execute_result"
    }
   ],
   "source": [
    "df_original.head()"
   ]
  },
  {
   "cell_type": "code",
   "execution_count": 164,
   "metadata": {},
   "outputs": [],
   "source": [
    "# Cria o encoder\n",
    "lb = LabelEncoder()\n",
    "\n",
    "# São variáveis categóricas que estão como texto, então nós aplicamos a função para que essa variável se torne um número, isso porque\n",
    "# o modelo preditivo, modelo de machine learning não entende letras, só entende números. E se não fizermos esse tratamento, ele simplesmente não\n",
    "# vai ler essas variáveis e com isso vamos perder esses dados. \n",
    "\n",
    "# Aplica o encoder nas variáveis que estão com string\n",
    "df_original['Month'] = lb.fit_transform(df_original['Month'])\n",
    "df_original['VisitorType'] = lb.fit_transform(df_original['VisitorType'])\n",
    "\n",
    "# Remove valores missing eventualmente gerados\n",
    "df_original.dropna(inplace = True)"
   ]
  },
  {
   "cell_type": "code",
   "execution_count": 170,
   "metadata": {},
   "outputs": [
    {
     "data": {
      "text/html": [
       "<div>\n",
       "<style scoped>\n",
       "    .dataframe tbody tr th:only-of-type {\n",
       "        vertical-align: middle;\n",
       "    }\n",
       "\n",
       "    .dataframe tbody tr th {\n",
       "        vertical-align: top;\n",
       "    }\n",
       "\n",
       "    .dataframe thead th {\n",
       "        text-align: right;\n",
       "    }\n",
       "</style>\n",
       "<table border=\"1\" class=\"dataframe\">\n",
       "  <thead>\n",
       "    <tr style=\"text-align: right;\">\n",
       "      <th></th>\n",
       "      <th>Administrative</th>\n",
       "      <th>Administrative_Duration</th>\n",
       "      <th>Informational</th>\n",
       "      <th>Informational_Duration</th>\n",
       "      <th>ProductRelated</th>\n",
       "      <th>ProductRelated_Duration</th>\n",
       "      <th>BounceRates</th>\n",
       "      <th>ExitRates</th>\n",
       "      <th>PageValues</th>\n",
       "      <th>SpecialDay</th>\n",
       "      <th>Month</th>\n",
       "      <th>OperatingSystems</th>\n",
       "      <th>Browser</th>\n",
       "      <th>Region</th>\n",
       "      <th>TrafficType</th>\n",
       "      <th>VisitorType</th>\n",
       "      <th>Weekend</th>\n",
       "      <th>Revenue</th>\n",
       "    </tr>\n",
       "  </thead>\n",
       "  <tbody>\n",
       "    <tr>\n",
       "      <th>0</th>\n",
       "      <td>0.0</td>\n",
       "      <td>0.0</td>\n",
       "      <td>0.0</td>\n",
       "      <td>0.0</td>\n",
       "      <td>1.0</td>\n",
       "      <td>0.000000</td>\n",
       "      <td>0.20</td>\n",
       "      <td>0.20</td>\n",
       "      <td>0.0</td>\n",
       "      <td>0.0</td>\n",
       "      <td>2</td>\n",
       "      <td>1</td>\n",
       "      <td>1</td>\n",
       "      <td>1</td>\n",
       "      <td>1</td>\n",
       "      <td>2</td>\n",
       "      <td>False</td>\n",
       "      <td>False</td>\n",
       "    </tr>\n",
       "    <tr>\n",
       "      <th>1</th>\n",
       "      <td>0.0</td>\n",
       "      <td>0.0</td>\n",
       "      <td>0.0</td>\n",
       "      <td>0.0</td>\n",
       "      <td>2.0</td>\n",
       "      <td>64.000000</td>\n",
       "      <td>0.00</td>\n",
       "      <td>0.10</td>\n",
       "      <td>0.0</td>\n",
       "      <td>0.0</td>\n",
       "      <td>2</td>\n",
       "      <td>2</td>\n",
       "      <td>2</td>\n",
       "      <td>1</td>\n",
       "      <td>2</td>\n",
       "      <td>2</td>\n",
       "      <td>False</td>\n",
       "      <td>False</td>\n",
       "    </tr>\n",
       "    <tr>\n",
       "      <th>2</th>\n",
       "      <td>0.0</td>\n",
       "      <td>-1.0</td>\n",
       "      <td>0.0</td>\n",
       "      <td>-1.0</td>\n",
       "      <td>1.0</td>\n",
       "      <td>-1.000000</td>\n",
       "      <td>0.20</td>\n",
       "      <td>0.20</td>\n",
       "      <td>0.0</td>\n",
       "      <td>0.0</td>\n",
       "      <td>2</td>\n",
       "      <td>4</td>\n",
       "      <td>1</td>\n",
       "      <td>9</td>\n",
       "      <td>3</td>\n",
       "      <td>2</td>\n",
       "      <td>False</td>\n",
       "      <td>False</td>\n",
       "    </tr>\n",
       "    <tr>\n",
       "      <th>3</th>\n",
       "      <td>0.0</td>\n",
       "      <td>0.0</td>\n",
       "      <td>0.0</td>\n",
       "      <td>0.0</td>\n",
       "      <td>2.0</td>\n",
       "      <td>2.666667</td>\n",
       "      <td>0.05</td>\n",
       "      <td>0.14</td>\n",
       "      <td>0.0</td>\n",
       "      <td>0.0</td>\n",
       "      <td>2</td>\n",
       "      <td>3</td>\n",
       "      <td>2</td>\n",
       "      <td>2</td>\n",
       "      <td>4</td>\n",
       "      <td>2</td>\n",
       "      <td>False</td>\n",
       "      <td>False</td>\n",
       "    </tr>\n",
       "    <tr>\n",
       "      <th>4</th>\n",
       "      <td>0.0</td>\n",
       "      <td>0.0</td>\n",
       "      <td>0.0</td>\n",
       "      <td>0.0</td>\n",
       "      <td>10.0</td>\n",
       "      <td>627.500000</td>\n",
       "      <td>0.02</td>\n",
       "      <td>0.05</td>\n",
       "      <td>0.0</td>\n",
       "      <td>0.0</td>\n",
       "      <td>2</td>\n",
       "      <td>3</td>\n",
       "      <td>3</td>\n",
       "      <td>1</td>\n",
       "      <td>4</td>\n",
       "      <td>2</td>\n",
       "      <td>True</td>\n",
       "      <td>False</td>\n",
       "    </tr>\n",
       "  </tbody>\n",
       "</table>\n",
       "</div>"
      ],
      "text/plain": [
       "   Administrative  Administrative_Duration  Informational  \\\n",
       "0             0.0                      0.0            0.0   \n",
       "1             0.0                      0.0            0.0   \n",
       "2             0.0                     -1.0            0.0   \n",
       "3             0.0                      0.0            0.0   \n",
       "4             0.0                      0.0            0.0   \n",
       "\n",
       "   Informational_Duration  ProductRelated  ProductRelated_Duration  \\\n",
       "0                     0.0             1.0                 0.000000   \n",
       "1                     0.0             2.0                64.000000   \n",
       "2                    -1.0             1.0                -1.000000   \n",
       "3                     0.0             2.0                 2.666667   \n",
       "4                     0.0            10.0               627.500000   \n",
       "\n",
       "   BounceRates  ExitRates  PageValues  SpecialDay  Month  OperatingSystems  \\\n",
       "0         0.20       0.20         0.0         0.0      2                 1   \n",
       "1         0.00       0.10         0.0         0.0      2                 2   \n",
       "2         0.20       0.20         0.0         0.0      2                 4   \n",
       "3         0.05       0.14         0.0         0.0      2                 3   \n",
       "4         0.02       0.05         0.0         0.0      2                 3   \n",
       "\n",
       "   Browser  Region  TrafficType  VisitorType  Weekend  Revenue  \n",
       "0        1       1            1            2    False    False  \n",
       "1        2       1            2            2    False    False  \n",
       "2        1       9            3            2    False    False  \n",
       "3        2       2            4            2    False    False  \n",
       "4        3       1            4            2     True    False  "
      ]
     },
     "execution_count": 170,
     "metadata": {},
     "output_type": "execute_result"
    }
   ],
   "source": [
    "df_original.head()"
   ]
  },
  {
   "cell_type": "code",
   "execution_count": 172,
   "metadata": {},
   "outputs": [
    {
     "data": {
      "text/plain": [
       "(12316, 18)"
      ]
     },
     "execution_count": 172,
     "metadata": {},
     "output_type": "execute_result"
    }
   ],
   "source": [
    "# Shape\n",
    "\n",
    "df_original.shape"
   ]
  },
  {
   "cell_type": "code",
   "execution_count": 176,
   "metadata": {},
   "outputs": [
    {
     "data": {
      "text/plain": [
       "Revenue\n",
       "False    10408\n",
       "True      1908\n",
       "Name: count, dtype: int64"
      ]
     },
     "execution_count": 176,
     "metadata": {},
     "output_type": "execute_result"
    }
   ],
   "source": [
    "# Verificando se a variável resposta está balanceada\n",
    "# Aqui podemos ver que ela não está balanceada.\n",
    "\n",
    "target_count = df_original.Revenue.value_counts()\n",
    "target_count"
   ]
  },
  {
   "cell_type": "code",
   "execution_count": 198,
   "metadata": {},
   "outputs": [
    {
     "data": {
      "image/png": "[encoded data removed]",
      "text/plain": [
       "<Figure size 700x400 with 1 Axes>"
      ]
     },
     "metadata": {},
     "output_type": "display_data"
    }
   ],
   "source": [
    "# Plot \n",
    "\n",
    "plt.figure(figsize=(7, 4))  # Definindo o tamanho do gráfico\n",
    "\n",
    "# Gráfico com formatação profissional\n",
    "ax = sns.countplot(x='Revenue', \n",
    "                   data=df_original,\n",
    "                   palette=['#ff9999', '#66b3ff'],  # Cores personalizadas (Não/Sim)\n",
    "                   order=[False, True])  # Ordem lógica\n",
    "\n",
    "# Removendo as bordas do gráfico\n",
    "ax.spines['top'].set_visible(False)\n",
    "ax.spines['right'].set_visible(False)\n",
    "ax.spines['left'].set_visible(False)\n",
    "\n",
    "# Adicionando os valores exatos nas barras\n",
    "for p in ax.patches:\n",
    "    ax.annotate(f'{p.get_height():,}',  # Formato com separador de milhar\n",
    "                (p.get_x() + p.get_width()/2., p.get_height()), \n",
    "                ha='center', va='center', \n",
    "                xytext=(0, 5), \n",
    "                textcoords='offset points',\n",
    "                fontsize=10)\n",
    "\n",
    "# Rótulos\n",
    "plt.xlabel('Gerou Receita?', fontsize=12, labelpad=10)\n",
    "plt.ylabel('Total de Sessões', fontsize=12, labelpad=10)\n",
    "plt.title('Distribuição de Sessões por Geração de Receita', fontsize=14, pad=20)\n",
    "\n",
    "# Ajustando os ticks do eixo X para mostrar \"Não\" e \"Sim\"\n",
    "plt.xticks(ticks=[0, 1], labels=['Não (0)', 'Sim (1)'], fontsize=11)\n",
    "\n",
    "plt.tight_layout()\n",
    "plt.show()"
   ]
  },
  {
   "cell_type": "code",
   "execution_count": 202,
   "metadata": {},
   "outputs": [],
   "source": [
    "# Instalar e importar o pacote imblearn\n",
    "# Se apresentar erro na instalação execute este comando !pip install scikit-learn==1.1.0 --user \n",
    "# Após a atualização estar completa, reinicie o jupyter notebook.\n",
    "#!pip install -q imblearn\n",
    "#import imblearn"
   ]
  },
  {
   "cell_type": "code",
   "execution_count": 226,
   "metadata": {},
   "outputs": [],
   "source": [
    "!pip install -q imblearn"
   ]
  },
  {
   "cell_type": "code",
   "execution_count": 228,
   "metadata": {},
   "outputs": [],
   "source": [
    "import imblearn"
   ]
  },
  {
   "cell_type": "code",
   "execution_count": 204,
   "metadata": {},
   "outputs": [
    {
     "data": {
      "text/plain": [
       "(12316, 18)"
      ]
     },
     "execution_count": 204,
     "metadata": {},
     "output_type": "execute_result"
    }
   ],
   "source": [
    "# Shape\n",
    "df_original.shape"
   ]
  },
  {
   "cell_type": "code",
   "execution_count": 208,
   "metadata": {},
   "outputs": [
    {
     "data": {
      "text/html": [
       "<div>\n",
       "<style scoped>\n",
       "    .dataframe tbody tr th:only-of-type {\n",
       "        vertical-align: middle;\n",
       "    }\n",
       "\n",
       "    .dataframe tbody tr th {\n",
       "        vertical-align: top;\n",
       "    }\n",
       "\n",
       "    .dataframe thead th {\n",
       "        text-align: right;\n",
       "    }\n",
       "</style>\n",
       "<table border=\"1\" class=\"dataframe\">\n",
       "  <thead>\n",
       "    <tr style=\"text-align: right;\">\n",
       "      <th></th>\n",
       "      <th>Administrative</th>\n",
       "      <th>Administrative_Duration</th>\n",
       "      <th>Informational</th>\n",
       "      <th>Informational_Duration</th>\n",
       "      <th>ProductRelated</th>\n",
       "      <th>ProductRelated_Duration</th>\n",
       "      <th>BounceRates</th>\n",
       "      <th>ExitRates</th>\n",
       "      <th>PageValues</th>\n",
       "      <th>SpecialDay</th>\n",
       "      <th>Month</th>\n",
       "      <th>OperatingSystems</th>\n",
       "      <th>Browser</th>\n",
       "      <th>Region</th>\n",
       "      <th>TrafficType</th>\n",
       "      <th>VisitorType</th>\n",
       "      <th>Weekend</th>\n",
       "    </tr>\n",
       "  </thead>\n",
       "  <tbody>\n",
       "    <tr>\n",
       "      <th>0</th>\n",
       "      <td>0.0</td>\n",
       "      <td>0.0</td>\n",
       "      <td>0.0</td>\n",
       "      <td>0.0</td>\n",
       "      <td>1.0</td>\n",
       "      <td>0.000000</td>\n",
       "      <td>0.20</td>\n",
       "      <td>0.20</td>\n",
       "      <td>0.0</td>\n",
       "      <td>0.0</td>\n",
       "      <td>2</td>\n",
       "      <td>1</td>\n",
       "      <td>1</td>\n",
       "      <td>1</td>\n",
       "      <td>1</td>\n",
       "      <td>2</td>\n",
       "      <td>False</td>\n",
       "    </tr>\n",
       "    <tr>\n",
       "      <th>1</th>\n",
       "      <td>0.0</td>\n",
       "      <td>0.0</td>\n",
       "      <td>0.0</td>\n",
       "      <td>0.0</td>\n",
       "      <td>2.0</td>\n",
       "      <td>64.000000</td>\n",
       "      <td>0.00</td>\n",
       "      <td>0.10</td>\n",
       "      <td>0.0</td>\n",
       "      <td>0.0</td>\n",
       "      <td>2</td>\n",
       "      <td>2</td>\n",
       "      <td>2</td>\n",
       "      <td>1</td>\n",
       "      <td>2</td>\n",
       "      <td>2</td>\n",
       "      <td>False</td>\n",
       "    </tr>\n",
       "    <tr>\n",
       "      <th>2</th>\n",
       "      <td>0.0</td>\n",
       "      <td>-1.0</td>\n",
       "      <td>0.0</td>\n",
       "      <td>-1.0</td>\n",
       "      <td>1.0</td>\n",
       "      <td>-1.000000</td>\n",
       "      <td>0.20</td>\n",
       "      <td>0.20</td>\n",
       "      <td>0.0</td>\n",
       "      <td>0.0</td>\n",
       "      <td>2</td>\n",
       "      <td>4</td>\n",
       "      <td>1</td>\n",
       "      <td>9</td>\n",
       "      <td>3</td>\n",
       "      <td>2</td>\n",
       "      <td>False</td>\n",
       "    </tr>\n",
       "    <tr>\n",
       "      <th>3</th>\n",
       "      <td>0.0</td>\n",
       "      <td>0.0</td>\n",
       "      <td>0.0</td>\n",
       "      <td>0.0</td>\n",
       "      <td>2.0</td>\n",
       "      <td>2.666667</td>\n",
       "      <td>0.05</td>\n",
       "      <td>0.14</td>\n",
       "      <td>0.0</td>\n",
       "      <td>0.0</td>\n",
       "      <td>2</td>\n",
       "      <td>3</td>\n",
       "      <td>2</td>\n",
       "      <td>2</td>\n",
       "      <td>4</td>\n",
       "      <td>2</td>\n",
       "      <td>False</td>\n",
       "    </tr>\n",
       "    <tr>\n",
       "      <th>4</th>\n",
       "      <td>0.0</td>\n",
       "      <td>0.0</td>\n",
       "      <td>0.0</td>\n",
       "      <td>0.0</td>\n",
       "      <td>10.0</td>\n",
       "      <td>627.500000</td>\n",
       "      <td>0.02</td>\n",
       "      <td>0.05</td>\n",
       "      <td>0.0</td>\n",
       "      <td>0.0</td>\n",
       "      <td>2</td>\n",
       "      <td>3</td>\n",
       "      <td>3</td>\n",
       "      <td>1</td>\n",
       "      <td>4</td>\n",
       "      <td>2</td>\n",
       "      <td>True</td>\n",
       "    </tr>\n",
       "  </tbody>\n",
       "</table>\n",
       "</div>"
      ],
      "text/plain": [
       "   Administrative  Administrative_Duration  Informational  \\\n",
       "0             0.0                      0.0            0.0   \n",
       "1             0.0                      0.0            0.0   \n",
       "2             0.0                     -1.0            0.0   \n",
       "3             0.0                      0.0            0.0   \n",
       "4             0.0                      0.0            0.0   \n",
       "\n",
       "   Informational_Duration  ProductRelated  ProductRelated_Duration  \\\n",
       "0                     0.0             1.0                 0.000000   \n",
       "1                     0.0             2.0                64.000000   \n",
       "2                    -1.0             1.0                -1.000000   \n",
       "3                     0.0             2.0                 2.666667   \n",
       "4                     0.0            10.0               627.500000   \n",
       "\n",
       "   BounceRates  ExitRates  PageValues  SpecialDay  Month  OperatingSystems  \\\n",
       "0         0.20       0.20         0.0         0.0      2                 1   \n",
       "1         0.00       0.10         0.0         0.0      2                 2   \n",
       "2         0.20       0.20         0.0         0.0      2                 4   \n",
       "3         0.05       0.14         0.0         0.0      2                 3   \n",
       "4         0.02       0.05         0.0         0.0      2                 3   \n",
       "\n",
       "   Browser  Region  TrafficType  VisitorType  Weekend  \n",
       "0        1       1            1            2    False  \n",
       "1        2       1            2            2    False  \n",
       "2        1       9            3            2    False  \n",
       "3        2       2            4            2    False  \n",
       "4        3       1            4            2     True  "
      ]
     },
     "execution_count": 208,
     "metadata": {},
     "output_type": "execute_result"
    }
   ],
   "source": [
    "# Variáveis explicativas\n",
    "\n",
    "df_original.iloc[:, 0:17].head()"
   ]
  },
  {
   "cell_type": "code",
   "execution_count": 212,
   "metadata": {},
   "outputs": [
    {
     "data": {
      "text/plain": [
       "0    False\n",
       "1    False\n",
       "2    False\n",
       "3    False\n",
       "4    False\n",
       "Name: Revenue, dtype: bool"
      ]
     },
     "execution_count": 212,
     "metadata": {},
     "output_type": "execute_result"
    }
   ],
   "source": [
    "# Variável Target\n",
    "# Aqui estamos separando a variável target das outras variáveis.\n",
    "\n",
    "df_original.iloc[:, 17].head()"
   ]
  },
  {
   "cell_type": "markdown",
   "metadata": {},
   "source": [
    "Balanceamento de Classe - Oversampling"
   ]
  },
  {
   "cell_type": "code",
   "execution_count": 219,
   "metadata": {},
   "outputs": [],
   "source": [
    "# Importa a função\n",
    "# import sklearn\n",
    "# A função vai aumentar os registros de forma coerente para que fique balanceado. Essa função estatisticamente faz uma relação entre os números\n",
    "# e com isso gera novos dados para que fique balanceado. \n",
    "\n",
    "from imblearn import under_sampling, over_sampling\n",
    "from imblearn.over_sampling import SMOTE\n",
    "\n",
    "# Seed para reproduzir o mesmo resultado\n",
    "seed = 100\n",
    "\n",
    "# Separa X e y\n",
    "X = df_original.iloc[:, 0:17]  \n",
    "y = df_original.iloc[:, 17] \n",
    "\n",
    "# Cria o balanceador SMOTE\n",
    "smote_bal = SMOTE(random_state = seed)\n",
    "\n",
    "# Aplica o balanceador\n",
    "X_res, y_res = smote_bal.fit_resample(X, y)"
   ]
  },
  {
   "cell_type": "code",
   "execution_count": 224,
   "metadata": {},
   "outputs": [
    {
     "data": {
      "image/png": "[encoded data removed]",
      "text/plain": [
       "<Figure size 800x400 with 1 Axes>"
      ]
     },
     "metadata": {},
     "output_type": "display_data"
    }
   ],
   "source": [
    "# Plot \n",
    "\n",
    "plt.figure(figsize=(8, 4))\n",
    "\n",
    "# 1. Verificação e preparação dos dados\n",
    "if not isinstance(y_res, pd.DataFrame):\n",
    "    y_res = pd.DataFrame(y_res, columns=['Revenue'])\n",
    "\n",
    "# 2. Garantir que os valores são numéricos\n",
    "y_res['Revenue'] = y_res['Revenue'].astype(int)\n",
    "\n",
    "# 3. Criar o gráfico\n",
    "ax = sns.countplot(x='Revenue',\n",
    "                  data=y_res,\n",
    "                  palette=\"OrRd\",\n",
    "                  order=sorted(y_res['Revenue'].unique()))\n",
    "\n",
    "# 4. Customização do gráfico\n",
    "plt.box(False)\n",
    "plt.xlabel('Gerou Receita? (Não=0, Sim=1)', fontsize=11)\n",
    "plt.ylabel('Total de Sessões', fontsize=11)\n",
    "plt.title('Distribuição de Sessões por Geração de Receita', fontsize=12)\n",
    "\n",
    "# 5. Adicionar valores nas barras (forma segura)\n",
    "for p in ax.patches:\n",
    "    height = int(p.get_height())  # Garante que é um número\n",
    "    ax.annotate(f'{height}',\n",
    "               (p.get_x() + p.get_width()/2., height),\n",
    "               ha='center', va='center',\n",
    "               xytext=(0, 5),\n",
    "               textcoords='offset points')\n",
    "\n",
    "# 6. Ajustar rótulos do eixo X\n",
    "ax.set_xticklabels([f'Não ({ax.get_xticks()[0]})', f'Sim ({ax.get_xticks()[1]})'])\n",
    "\n",
    "plt.tight_layout()\n",
    "plt.show()"
   ]
  },
  {
   "cell_type": "code",
   "execution_count": 230,
   "metadata": {},
   "outputs": [
    {
     "data": {
      "text/plain": [
       "(12316, 18)"
      ]
     },
     "execution_count": 230,
     "metadata": {},
     "output_type": "execute_result"
    }
   ],
   "source": [
    "# Shape dos dados originais\n",
    "\n",
    "df_original.shape"
   ]
  },
  {
   "cell_type": "code",
   "execution_count": 240,
   "metadata": {},
   "outputs": [
    {
     "data": {
      "text/plain": [
       "(20816, 17)"
      ]
     },
     "execution_count": 240,
     "metadata": {},
     "output_type": "execute_result"
    }
   ],
   "source": [
    "# Shape dos dados reamostrados \n",
    "# Como fizemos um balanceamento dos dados, podemos perceber que ganhamos mais registros nele.\n",
    "\n",
    "# Como foi colocado la em cima, o X_RES representa as variáveis explicativas.\n",
    "\n",
    "X_res.shape"
   ]
  },
  {
   "cell_type": "code",
   "execution_count": 242,
   "metadata": {},
   "outputs": [
    {
     "data": {
      "text/plain": [
       "(20816, 1)"
      ]
     },
     "execution_count": 242,
     "metadata": {},
     "output_type": "execute_result"
    }
   ],
   "source": [
    "# Shape dos dados reamostrados \n",
    "\n",
    "# Como foi colocado la em cima, o Y_RES representa a variável target.\n",
    "\n",
    "y_res.shape"
   ]
  },
  {
   "cell_type": "code",
   "execution_count": 236,
   "metadata": {},
   "outputs": [],
   "source": [
    "# Ajustando X e y\n",
    "# Para fins de demonstração deste exemplo vou utilizar somente 1.000 observações para não demorar muito o tempo de treinamento\n",
    "# Porém se fosse para fazer mesmo real, teria que fazer para todos.\n",
    "# modelo\n",
    "\n",
    "#X = X_res   Aqui nós fariamos com todos os dados\n",
    "#y = y_res   Aqui nós fariamos com todos os dados\n",
    "\n",
    "X = X_res.head(1000)\n",
    "y = y_res.head(1000)"
   ]
  },
  {
   "cell_type": "code",
   "execution_count": 244,
   "metadata": {},
   "outputs": [
    {
     "data": {
      "text/html": [
       "<div>\n",
       "<style scoped>\n",
       "    .dataframe tbody tr th:only-of-type {\n",
       "        vertical-align: middle;\n",
       "    }\n",
       "\n",
       "    .dataframe tbody tr th {\n",
       "        vertical-align: top;\n",
       "    }\n",
       "\n",
       "    .dataframe thead th {\n",
       "        text-align: right;\n",
       "    }\n",
       "</style>\n",
       "<table border=\"1\" class=\"dataframe\">\n",
       "  <thead>\n",
       "    <tr style=\"text-align: right;\">\n",
       "      <th></th>\n",
       "      <th>Administrative</th>\n",
       "      <th>Administrative_Duration</th>\n",
       "      <th>Informational</th>\n",
       "      <th>Informational_Duration</th>\n",
       "      <th>ProductRelated</th>\n",
       "      <th>ProductRelated_Duration</th>\n",
       "      <th>BounceRates</th>\n",
       "      <th>ExitRates</th>\n",
       "      <th>PageValues</th>\n",
       "      <th>SpecialDay</th>\n",
       "      <th>Month</th>\n",
       "      <th>OperatingSystems</th>\n",
       "      <th>Browser</th>\n",
       "      <th>Region</th>\n",
       "      <th>TrafficType</th>\n",
       "      <th>VisitorType</th>\n",
       "      <th>Weekend</th>\n",
       "    </tr>\n",
       "  </thead>\n",
       "  <tbody>\n",
       "    <tr>\n",
       "      <th>0</th>\n",
       "      <td>0.0</td>\n",
       "      <td>0.0</td>\n",
       "      <td>0.0</td>\n",
       "      <td>0.0</td>\n",
       "      <td>1.0</td>\n",
       "      <td>0.000000</td>\n",
       "      <td>0.200000</td>\n",
       "      <td>0.200000</td>\n",
       "      <td>0.0</td>\n",
       "      <td>0.0</td>\n",
       "      <td>2</td>\n",
       "      <td>1</td>\n",
       "      <td>1</td>\n",
       "      <td>1</td>\n",
       "      <td>1</td>\n",
       "      <td>2</td>\n",
       "      <td>False</td>\n",
       "    </tr>\n",
       "    <tr>\n",
       "      <th>1</th>\n",
       "      <td>0.0</td>\n",
       "      <td>0.0</td>\n",
       "      <td>0.0</td>\n",
       "      <td>0.0</td>\n",
       "      <td>2.0</td>\n",
       "      <td>64.000000</td>\n",
       "      <td>0.000000</td>\n",
       "      <td>0.100000</td>\n",
       "      <td>0.0</td>\n",
       "      <td>0.0</td>\n",
       "      <td>2</td>\n",
       "      <td>2</td>\n",
       "      <td>2</td>\n",
       "      <td>1</td>\n",
       "      <td>2</td>\n",
       "      <td>2</td>\n",
       "      <td>False</td>\n",
       "    </tr>\n",
       "    <tr>\n",
       "      <th>2</th>\n",
       "      <td>0.0</td>\n",
       "      <td>-1.0</td>\n",
       "      <td>0.0</td>\n",
       "      <td>-1.0</td>\n",
       "      <td>1.0</td>\n",
       "      <td>-1.000000</td>\n",
       "      <td>0.200000</td>\n",
       "      <td>0.200000</td>\n",
       "      <td>0.0</td>\n",
       "      <td>0.0</td>\n",
       "      <td>2</td>\n",
       "      <td>4</td>\n",
       "      <td>1</td>\n",
       "      <td>9</td>\n",
       "      <td>3</td>\n",
       "      <td>2</td>\n",
       "      <td>False</td>\n",
       "    </tr>\n",
       "    <tr>\n",
       "      <th>3</th>\n",
       "      <td>0.0</td>\n",
       "      <td>0.0</td>\n",
       "      <td>0.0</td>\n",
       "      <td>0.0</td>\n",
       "      <td>2.0</td>\n",
       "      <td>2.666667</td>\n",
       "      <td>0.050000</td>\n",
       "      <td>0.140000</td>\n",
       "      <td>0.0</td>\n",
       "      <td>0.0</td>\n",
       "      <td>2</td>\n",
       "      <td>3</td>\n",
       "      <td>2</td>\n",
       "      <td>2</td>\n",
       "      <td>4</td>\n",
       "      <td>2</td>\n",
       "      <td>False</td>\n",
       "    </tr>\n",
       "    <tr>\n",
       "      <th>4</th>\n",
       "      <td>0.0</td>\n",
       "      <td>0.0</td>\n",
       "      <td>0.0</td>\n",
       "      <td>0.0</td>\n",
       "      <td>10.0</td>\n",
       "      <td>627.500000</td>\n",
       "      <td>0.020000</td>\n",
       "      <td>0.050000</td>\n",
       "      <td>0.0</td>\n",
       "      <td>0.0</td>\n",
       "      <td>2</td>\n",
       "      <td>3</td>\n",
       "      <td>3</td>\n",
       "      <td>1</td>\n",
       "      <td>4</td>\n",
       "      <td>2</td>\n",
       "      <td>True</td>\n",
       "    </tr>\n",
       "    <tr>\n",
       "      <th>...</th>\n",
       "      <td>...</td>\n",
       "      <td>...</td>\n",
       "      <td>...</td>\n",
       "      <td>...</td>\n",
       "      <td>...</td>\n",
       "      <td>...</td>\n",
       "      <td>...</td>\n",
       "      <td>...</td>\n",
       "      <td>...</td>\n",
       "      <td>...</td>\n",
       "      <td>...</td>\n",
       "      <td>...</td>\n",
       "      <td>...</td>\n",
       "      <td>...</td>\n",
       "      <td>...</td>\n",
       "      <td>...</td>\n",
       "      <td>...</td>\n",
       "    </tr>\n",
       "    <tr>\n",
       "      <th>995</th>\n",
       "      <td>1.0</td>\n",
       "      <td>10.0</td>\n",
       "      <td>0.0</td>\n",
       "      <td>0.0</td>\n",
       "      <td>39.0</td>\n",
       "      <td>1152.500000</td>\n",
       "      <td>0.011966</td>\n",
       "      <td>0.017802</td>\n",
       "      <td>0.0</td>\n",
       "      <td>0.0</td>\n",
       "      <td>5</td>\n",
       "      <td>3</td>\n",
       "      <td>2</td>\n",
       "      <td>1</td>\n",
       "      <td>3</td>\n",
       "      <td>2</td>\n",
       "      <td>False</td>\n",
       "    </tr>\n",
       "    <tr>\n",
       "      <th>996</th>\n",
       "      <td>10.0</td>\n",
       "      <td>164.5</td>\n",
       "      <td>1.0</td>\n",
       "      <td>3.0</td>\n",
       "      <td>61.0</td>\n",
       "      <td>2292.679762</td>\n",
       "      <td>0.000000</td>\n",
       "      <td>0.009552</td>\n",
       "      <td>0.0</td>\n",
       "      <td>0.0</td>\n",
       "      <td>5</td>\n",
       "      <td>2</td>\n",
       "      <td>2</td>\n",
       "      <td>1</td>\n",
       "      <td>1</td>\n",
       "      <td>2</td>\n",
       "      <td>False</td>\n",
       "    </tr>\n",
       "    <tr>\n",
       "      <th>997</th>\n",
       "      <td>0.0</td>\n",
       "      <td>0.0</td>\n",
       "      <td>0.0</td>\n",
       "      <td>0.0</td>\n",
       "      <td>9.0</td>\n",
       "      <td>329.000000</td>\n",
       "      <td>0.022222</td>\n",
       "      <td>0.044444</td>\n",
       "      <td>0.0</td>\n",
       "      <td>0.0</td>\n",
       "      <td>5</td>\n",
       "      <td>2</td>\n",
       "      <td>2</td>\n",
       "      <td>3</td>\n",
       "      <td>1</td>\n",
       "      <td>2</td>\n",
       "      <td>False</td>\n",
       "    </tr>\n",
       "    <tr>\n",
       "      <th>998</th>\n",
       "      <td>0.0</td>\n",
       "      <td>0.0</td>\n",
       "      <td>0.0</td>\n",
       "      <td>0.0</td>\n",
       "      <td>8.0</td>\n",
       "      <td>111.666667</td>\n",
       "      <td>0.000000</td>\n",
       "      <td>0.025000</td>\n",
       "      <td>0.0</td>\n",
       "      <td>0.0</td>\n",
       "      <td>5</td>\n",
       "      <td>2</td>\n",
       "      <td>2</td>\n",
       "      <td>1</td>\n",
       "      <td>1</td>\n",
       "      <td>2</td>\n",
       "      <td>False</td>\n",
       "    </tr>\n",
       "    <tr>\n",
       "      <th>999</th>\n",
       "      <td>0.0</td>\n",
       "      <td>0.0</td>\n",
       "      <td>0.0</td>\n",
       "      <td>0.0</td>\n",
       "      <td>15.0</td>\n",
       "      <td>1074.428571</td>\n",
       "      <td>0.015385</td>\n",
       "      <td>0.021538</td>\n",
       "      <td>0.0</td>\n",
       "      <td>0.0</td>\n",
       "      <td>5</td>\n",
       "      <td>3</td>\n",
       "      <td>2</td>\n",
       "      <td>1</td>\n",
       "      <td>1</td>\n",
       "      <td>2</td>\n",
       "      <td>False</td>\n",
       "    </tr>\n",
       "  </tbody>\n",
       "</table>\n",
       "<p>1000 rows × 17 columns</p>\n",
       "</div>"
      ],
      "text/plain": [
       "     Administrative  Administrative_Duration  Informational  \\\n",
       "0               0.0                      0.0            0.0   \n",
       "1               0.0                      0.0            0.0   \n",
       "2               0.0                     -1.0            0.0   \n",
       "3               0.0                      0.0            0.0   \n",
       "4               0.0                      0.0            0.0   \n",
       "..              ...                      ...            ...   \n",
       "995             1.0                     10.0            0.0   \n",
       "996            10.0                    164.5            1.0   \n",
       "997             0.0                      0.0            0.0   \n",
       "998             0.0                      0.0            0.0   \n",
       "999             0.0                      0.0            0.0   \n",
       "\n",
       "     Informational_Duration  ProductRelated  ProductRelated_Duration  \\\n",
       "0                       0.0             1.0                 0.000000   \n",
       "1                       0.0             2.0                64.000000   \n",
       "2                      -1.0             1.0                -1.000000   \n",
       "3                       0.0             2.0                 2.666667   \n",
       "4                       0.0            10.0               627.500000   \n",
       "..                      ...             ...                      ...   \n",
       "995                     0.0            39.0              1152.500000   \n",
       "996                     3.0            61.0              2292.679762   \n",
       "997                     0.0             9.0               329.000000   \n",
       "998                     0.0             8.0               111.666667   \n",
       "999                     0.0            15.0              1074.428571   \n",
       "\n",
       "     BounceRates  ExitRates  PageValues  SpecialDay  Month  OperatingSystems  \\\n",
       "0       0.200000   0.200000         0.0         0.0      2                 1   \n",
       "1       0.000000   0.100000         0.0         0.0      2                 2   \n",
       "2       0.200000   0.200000         0.0         0.0      2                 4   \n",
       "3       0.050000   0.140000         0.0         0.0      2                 3   \n",
       "4       0.020000   0.050000         0.0         0.0      2                 3   \n",
       "..           ...        ...         ...         ...    ...               ...   \n",
       "995     0.011966   0.017802         0.0         0.0      5                 3   \n",
       "996     0.000000   0.009552         0.0         0.0      5                 2   \n",
       "997     0.022222   0.044444         0.0         0.0      5                 2   \n",
       "998     0.000000   0.025000         0.0         0.0      5                 2   \n",
       "999     0.015385   0.021538         0.0         0.0      5                 3   \n",
       "\n",
       "     Browser  Region  TrafficType  VisitorType  Weekend  \n",
       "0          1       1            1            2    False  \n",
       "1          2       1            2            2    False  \n",
       "2          1       9            3            2    False  \n",
       "3          2       2            4            2    False  \n",
       "4          3       1            4            2     True  \n",
       "..       ...     ...          ...          ...      ...  \n",
       "995        2       1            3            2    False  \n",
       "996        2       1            1            2    False  \n",
       "997        2       3            1            2    False  \n",
       "998        2       1            1            2    False  \n",
       "999        2       1            1            2    False  \n",
       "\n",
       "[1000 rows x 17 columns]"
      ]
     },
     "execution_count": 244,
     "metadata": {},
     "output_type": "execute_result"
    }
   ],
   "source": [
    "X"
   ]
  },
  {
   "cell_type": "code",
   "execution_count": 248,
   "metadata": {},
   "outputs": [
    {
     "data": {
      "text/html": [
       "<div>\n",
       "<style scoped>\n",
       "    .dataframe tbody tr th:only-of-type {\n",
       "        vertical-align: middle;\n",
       "    }\n",
       "\n",
       "    .dataframe tbody tr th {\n",
       "        vertical-align: top;\n",
       "    }\n",
       "\n",
       "    .dataframe thead th {\n",
       "        text-align: right;\n",
       "    }\n",
       "</style>\n",
       "<table border=\"1\" class=\"dataframe\">\n",
       "  <thead>\n",
       "    <tr style=\"text-align: right;\">\n",
       "      <th></th>\n",
       "      <th>Revenue</th>\n",
       "    </tr>\n",
       "  </thead>\n",
       "  <tbody>\n",
       "    <tr>\n",
       "      <th>0</th>\n",
       "      <td>0</td>\n",
       "    </tr>\n",
       "    <tr>\n",
       "      <th>1</th>\n",
       "      <td>0</td>\n",
       "    </tr>\n",
       "    <tr>\n",
       "      <th>2</th>\n",
       "      <td>0</td>\n",
       "    </tr>\n",
       "    <tr>\n",
       "      <th>3</th>\n",
       "      <td>0</td>\n",
       "    </tr>\n",
       "    <tr>\n",
       "      <th>4</th>\n",
       "      <td>0</td>\n",
       "    </tr>\n",
       "    <tr>\n",
       "      <th>...</th>\n",
       "      <td>...</td>\n",
       "    </tr>\n",
       "    <tr>\n",
       "      <th>995</th>\n",
       "      <td>0</td>\n",
       "    </tr>\n",
       "    <tr>\n",
       "      <th>996</th>\n",
       "      <td>0</td>\n",
       "    </tr>\n",
       "    <tr>\n",
       "      <th>997</th>\n",
       "      <td>0</td>\n",
       "    </tr>\n",
       "    <tr>\n",
       "      <th>998</th>\n",
       "      <td>0</td>\n",
       "    </tr>\n",
       "    <tr>\n",
       "      <th>999</th>\n",
       "      <td>0</td>\n",
       "    </tr>\n",
       "  </tbody>\n",
       "</table>\n",
       "<p>1000 rows × 1 columns</p>\n",
       "</div>"
      ],
      "text/plain": [
       "     Revenue\n",
       "0          0\n",
       "1          0\n",
       "2          0\n",
       "3          0\n",
       "4          0\n",
       "..       ...\n",
       "995        0\n",
       "996        0\n",
       "997        0\n",
       "998        0\n",
       "999        0\n",
       "\n",
       "[1000 rows x 1 columns]"
      ]
     },
     "execution_count": 248,
     "metadata": {},
     "output_type": "execute_result"
    }
   ],
   "source": [
    "y"
   ]
  },
  {
   "cell_type": "markdown",
   "metadata": {},
   "source": [
    "A divisão dos dados em conjuntos de treino e teste é uma prática essencial em Machine Learning para garantir que o modelo:\n",
    "\n",
    "- Aprenda padrões gerais (não apenas decore os dados de treino).\n",
    "\n",
    "- Tenha desempenho realista em dados nunca vistos antes.\n",
    "\n",
    "- Evite overfitting (quando o modelo se ajusta demais aos dados de treino e falha em generalizar)."
   ]
  },
  {
   "cell_type": "markdown",
   "metadata": {},
   "source": [
    "## Evitar Overfitting (Sobreajuste)\n",
    "Se um modelo for treinado e avaliado nos mesmos dados, ele pode simplesmente \"decorar\" as respostas (overfitting), em vez de aprender padrões úteis.\n",
    "\n",
    "- Exemplo: Um aluno que só decora as respostas de um simulado, mas não consegue resolver questões novas.\n",
    "\n",
    "✅ Solução:\n",
    "\n",
    "- Treinar em 70-80% dos dados (treino).\n",
    "\n",
    "- Testar em 20-30% separados (teste)."
   ]
  },
  {
   "cell_type": "markdown",
   "metadata": {},
   "source": [
    "## Avaliação Justa do Modelo\n",
    "O conjunto de teste simula como o modelo se comportará com dados nunca vistos. Se o modelo performar bem no treino, mas mal no teste, significa que ele não generaliza bem.\n",
    "\n",
    "📊 Exemplo de má avaliação:\n",
    "\n",
    "- Acurácia no treino: 99%\n",
    "\n",
    "- Acurácia no teste: 60%\n",
    "→ O modelo está overfitting!"
   ]
  },
  {
   "cell_type": "markdown",
   "metadata": {},
   "source": [
    "## Otimização de Hiperparâmetros\n",
    "Usamos validação cruzada (cross-validation) para ajustar os parâmetros do modelo sem vazar dados de teste. Isso evita que o modelo seja ajustado para performar bem apenas no teste (data leakage).\n",
    "\n"
   ]
  },
  {
   "cell_type": "code",
   "execution_count": 265,
   "metadata": {},
   "outputs": [],
   "source": [
    "# Divisão em Dados de Treino e Teste.\n",
    "# Quando formos criar e treinar o modelo preditivo, passamos cerca de 60/70% dos nossos dados.\n",
    "\n",
    "X_treino, X_teste, y_treino, y_teste = train_test_split(X, y, test_size = 0.3, random_state = 42)"
   ]
  },
  {
   "cell_type": "markdown",
   "metadata": {},
   "source": [
    "- O parâmetro random_state controla a aleatoriedade na divisão dos dados entre treino e teste. Quando você define um valor fixo (como 42), garante que:\n",
    "\n",
    "- A divisão será reproduzível: Se você ou outra pessoa executar o código novamente, os dados serão divididos exatamente da mesma maneira.\n",
    "\n",
    "- Resultados consistentes: Importante para testes, comparação de modelos e depuração."
   ]
  },
  {
   "cell_type": "markdown",
   "metadata": {},
   "source": [
    "#### Por que usar random_state?\n",
    "- Sem random_state: A cada execução, os dados são divididos aleatoriamente, podendo gerar resultados diferentes.\n",
    "\n",
    "- Com random_state: A divisão é pseudoaleatória (sempre a mesma para o mesmo valor)."
   ]
  },
  {
   "cell_type": "markdown",
   "metadata": {},
   "source": [
    "## Modelo SVM"
   ]
  },
  {
   "cell_type": "markdown",
   "metadata": {},
   "source": [
    "### Modelo Base com Kernel Linear"
   ]
  },
  {
   "cell_type": "code",
   "execution_count": 275,
   "metadata": {},
   "outputs": [],
   "source": [
    "# Cria o modelo\n",
    "\n",
    "modelo_v1 = svm.SVC(kernel = 'linear')"
   ]
  },
  {
   "cell_type": "code",
   "execution_count": 279,
   "metadata": {},
   "outputs": [
    {
     "name": "stdout",
     "output_type": "stream",
     "text": [
      "Tempo de Treinamento do Modelo: 38.25510287284851\n"
     ]
    }
   ],
   "source": [
    "# Treinamento\n",
    "\n",
    "start = time.time()\n",
    "modelo_v1.fit(X_treino, y_treino) #.FIT é o método que vai fazer o treinamento. Xtreino é a variável de entrada e ytreino a variável alvo.\n",
    "end = time.time()\n",
    "print('Tempo de Treinamento do Modelo:', end - start) # Só para vermos quanto tempo levou para esse modelo ser treinado. "
   ]
  },
  {
   "cell_type": "code",
   "execution_count": 281,
   "metadata": {},
   "outputs": [],
   "source": [
    "# Previsões\n",
    "# Agora vamos fazer as previsões apenas com o modelo de teste.\n",
    "\n",
    "previsoes_v1 = modelo_v1.predict(X_teste)"
   ]
  },
  {
   "cell_type": "code",
   "execution_count": 283,
   "metadata": {},
   "outputs": [],
   "source": [
    "# Dicionário de métricas e metadados\n",
    "\n",
    "SVM_dict_v1 = {'Modelo':'SVM',\n",
    "               'Versão':'1',\n",
    "               'Kernel':'Linear',\n",
    "               'Precision':precision_score(previsoes_v1, y_teste),\n",
    "               'Recall':recall_score(previsoes_v1, y_teste),\n",
    "               'F1 Score':f1_score(previsoes_v1, y_teste),\n",
    "               'Acurácia':accuracy_score(previsoes_v1, y_teste),\n",
    "               'AUC':roc_auc_score(y_teste, previsoes_v1)}"
   ]
  },
  {
   "cell_type": "code",
   "execution_count": 285,
   "metadata": {},
   "outputs": [
    {
     "name": "stdout",
     "output_type": "stream",
     "text": [
      "Métricas em Teste:\n",
      "\n"
     ]
    },
    {
     "data": {
      "text/plain": [
       "{'Modelo': 'SVM',\n",
       " 'Versão': '1',\n",
       " 'Kernel': 'Linear',\n",
       " 'Precision': 0.52,\n",
       " 'Recall': 0.7647058823529411,\n",
       " 'F1 Score': 0.6190476190476191,\n",
       " 'Acurácia': 0.9466666666666667,\n",
       " 'AUC': 0.7527272727272728}"
      ]
     },
     "execution_count": 285,
     "metadata": {},
     "output_type": "execute_result"
    }
   ],
   "source": [
    "# Print\n",
    "\n",
    "print(\"Métricas em Teste:\\n\")\n",
    "SVM_dict_v1"
   ]
  },
  {
   "cell_type": "markdown",
   "metadata": {},
   "source": [
    "### Modelo com Kernel Linear e Dados Padronizados (Scaled)"
   ]
  },
  {
   "cell_type": "code",
   "execution_count": 287,
   "metadata": {},
   "outputs": [],
   "source": [
    "# ***** Atenção *****\n",
    "# O método nesta célula não deve ser usado, pois estaríamos aplicando o fit em teste e isso não é o ideal\n",
    "# Aplicamos o fit somente nos dados de treino e aplicamos o transform nos dados de teste\n",
    "# Padronização\n",
    "# X_treino_scaled = StandardScaler().fit_transform(X_treino)\n",
    "# X_teste_scaled = StandardScaler().fit_transform(X_teste)"
   ]
  },
  {
   "cell_type": "code",
   "execution_count": 289,
   "metadata": {},
   "outputs": [],
   "source": [
    "# Agora sim, a forma ideal de aplicar a padronização em treino e teste\n",
    "# Padronização\n",
    "\n",
    "sc = StandardScaler()\n",
    "X_treino_scaled = sc.fit_transform(X_treino)\n",
    "X_teste_scaled = sc.transform(X_teste)"
   ]
  },
  {
   "cell_type": "markdown",
   "metadata": {},
   "source": [
    "Obsevação:\n",
    "\n",
    "Para impedir que as informações sobre a distribuição do conjunto de teste vazem em seu modelo, o ideal é aplicar a padronização em separado nos dados de treino e de teste, ajustando o redimensionador apenas aos dados de treinamento, padronizando então os conjuntos de treinamento e teste com esse redimensionador (exatamente como está na célula acima). Ao ajustar o redimensionador no conjunto de dados completo antes da divisão em treino e teste, informações sobre o conjunto de testes são usadas para transformar o conjunto de treinamento.\n",
    "\n",
    "Conhecer a distribuição de todo o conjunto de dados pode influenciar como você detecta e processa outliers, bem como como você parametriza seu modelo. Embora os dados em si não sejam expostos, há informações sobre a distribuição dos dados. Como resultado, o desempenho do seu conjunto de testes não é uma estimativa real do desempenho em dados invisíveis.\n",
    "\n",
    "Sempre aplique a padronização depois de fazer a divisão em treino e teste, exatamente como fizemos aqui. Usamos fit_transform() nos dados de treino e transform() nos dados de teste quando usamos o StandardScaler()."
   ]
  },
  {
   "cell_type": "code",
   "execution_count": 291,
   "metadata": {},
   "outputs": [
    {
     "data": {
      "text/plain": [
       "array([[-0.59034343, -0.40561073, -0.31756214, ..., -0.75751167,\n",
       "         0.33597259, -0.54433105],\n",
       "       [-0.59034343, -0.40561073, -0.31756214, ..., -0.41048407,\n",
       "         0.33597259,  1.83711731],\n",
       "       [ 0.07887179, -0.33356238, -0.31756214, ..., -0.75751167,\n",
       "         0.33597259, -0.54433105],\n",
       "       ...,\n",
       "       [-0.59034343, -0.40561073, -0.31756214, ..., -0.41048407,\n",
       "        -2.97643326, -0.54433105],\n",
       "       [ 0.07887179, -0.16326629, -0.31756214, ..., -0.41048407,\n",
       "        -2.97643326,  1.83711731],\n",
       "       [-0.59034343, -0.40561073, -0.31756214, ..., -0.41048407,\n",
       "         0.33597259, -0.54433105]])"
      ]
     },
     "execution_count": 291,
     "metadata": {},
     "output_type": "execute_result"
    }
   ],
   "source": [
    "X_treino_scaled"
   ]
  },
  {
   "cell_type": "code",
   "execution_count": 293,
   "metadata": {},
   "outputs": [
    {
     "data": {
      "text/plain": [
       "array([[ 0.4134794 , -0.02571945, -0.31756214, ..., -0.06345648,\n",
       "         0.33597259, -0.54433105],\n",
       "       [-0.25573582, -0.26151404, -0.31756214, ..., -0.41048407,\n",
       "         0.33597259, -0.54433105],\n",
       "       [ 1.08269462,  1.52462998,  4.89244178, ..., -0.75751167,\n",
       "         0.33597259, -0.54433105],\n",
       "       ...,\n",
       "       [-0.59034343, -0.40561073, -0.31756214, ..., -0.41048407,\n",
       "         0.33597259, -0.54433105],\n",
       "       [-0.25573582, -0.41216058, -0.31756214, ...,  0.63059872,\n",
       "         0.33597259,  1.83711731],\n",
       "       [-0.59034343, -0.40561073, -0.31756214, ..., -0.75751167,\n",
       "         0.33597259,  1.83711731]])"
      ]
     },
     "execution_count": 293,
     "metadata": {},
     "output_type": "execute_result"
    }
   ],
   "source": [
    "X_teste_scaled"
   ]
  },
  {
   "cell_type": "code",
   "execution_count": 295,
   "metadata": {},
   "outputs": [],
   "source": [
    "# Cria o modelo\n",
    "\n",
    "modelo_v2 = svm.SVC(kernel = 'linear')"
   ]
  },
  {
   "cell_type": "code",
   "execution_count": 299,
   "metadata": {},
   "outputs": [
    {
     "name": "stdout",
     "output_type": "stream",
     "text": [
      "Tempo de Treinamento do Modelo: 0.009034872055053711\n"
     ]
    }
   ],
   "source": [
    "# Treinamento\n",
    "\n",
    "start = time.time() # Só para vermos quanto tempo levou para esse modelo ser treinado. \n",
    "modelo_v2.fit(X_treino_scaled, y_treino)\n",
    "end = time.time()\n",
    "print('Tempo de Treinamento do Modelo:', end - start) # Só para vermos quanto tempo levou para esse modelo ser treinado. "
   ]
  },
  {
   "cell_type": "code",
   "execution_count": 301,
   "metadata": {},
   "outputs": [],
   "source": [
    "# Previsões\n",
    "\n",
    "previsoes_v2 = modelo_v2.predict(X_teste_scaled)"
   ]
  },
  {
   "cell_type": "code",
   "execution_count": 303,
   "metadata": {},
   "outputs": [],
   "source": [
    "# Dicionário de métricas e metadados\n",
    "\n",
    "SVM_dict_v2 = {'Modelo':'SVM',\n",
    "               'Versão':'2',\n",
    "               'Kernel':'Linear com Dados Padronizados',\n",
    "               'Precision':precision_score(previsoes_v2, y_teste),\n",
    "               'Recall':recall_score(previsoes_v2, y_teste),\n",
    "               'F1 Score':f1_score(previsoes_v2, y_teste),\n",
    "               'Acurácia':accuracy_score(previsoes_v2, y_teste),\n",
    "               'AUC':roc_auc_score(y_teste, previsoes_v2)}"
   ]
  },
  {
   "cell_type": "code",
   "execution_count": 305,
   "metadata": {},
   "outputs": [
    {
     "name": "stdout",
     "output_type": "stream",
     "text": [
      "Métricas em Teste:\n",
      "\n"
     ]
    },
    {
     "data": {
      "text/plain": [
       "{'Modelo': 'SVM',\n",
       " 'Versão': '2',\n",
       " 'Kernel': 'Linear com Dados Padronizados',\n",
       " 'Precision': 0.48,\n",
       " 'Recall': 0.8571428571428571,\n",
       " 'F1 Score': 0.6153846153846154,\n",
       " 'Acurácia': 0.95,\n",
       " 'AUC': 0.7363636363636362}"
      ]
     },
     "execution_count": 305,
     "metadata": {},
     "output_type": "execute_result"
    }
   ],
   "source": [
    "# Print\n",
    "\n",
    "print(\"Métricas em Teste:\\n\")\n",
    "SVM_dict_v2"
   ]
  },
  {
   "cell_type": "markdown",
   "metadata": {},
   "source": [
    "### Otimização de Hiperparâmetros com Grid Search e Kernel RBF"
   ]
  },
  {
   "cell_type": "code",
   "execution_count": 307,
   "metadata": {},
   "outputs": [
    {
     "name": "stdout",
     "output_type": "stream",
     "text": [
      "Tempo de Treinamento do Modelo com Grid Search: 0.19559574127197266\n",
      "Acurácia em Treinamento: 94.86%\n",
      "\n",
      "Hiperparâmetros Ideais: {'C': 50.0, 'gamma': 0.003}\n"
     ]
    }
   ],
   "source": [
    "# Cria o modelo\n",
    "modelo_v3 = svm.SVC(kernel = 'rbf')\n",
    "\n",
    "# Valores para o grid\n",
    "C_range = np.array([50., 100., 200.])\n",
    "gamma_range = np.array([0.3*0.001,0.001,3*0.001])\n",
    "\n",
    "# Grid de hiperparâmetros\n",
    "svm_param_grid = dict(gamma = gamma_range, C = C_range)\n",
    "\n",
    "# Grid Search\n",
    "start = time.time()\n",
    "modelo_v3_grid_search_rbf = GridSearchCV(modelo_v3, svm_param_grid, cv = 3)\n",
    "\n",
    "# Treinamento\n",
    "modelo_v3_grid_search_rbf.fit(X_treino_scaled, y_treino)\n",
    "end = time.time()\n",
    "print('Tempo de Treinamento do Modelo com Grid Search:', end - start)\n",
    "\n",
    "# Acurácia em Treino\n",
    "print(f\"Acurácia em Treinamento: {modelo_v3_grid_search_rbf.best_score_ :.2%}\")\n",
    "print(\"\")\n",
    "print(f\"Hiperparâmetros Ideais: {modelo_v3_grid_search_rbf.best_params_}\")"
   ]
  },
  {
   "cell_type": "code",
   "execution_count": 309,
   "metadata": {},
   "outputs": [],
   "source": [
    "# Previsões\n",
    "\n",
    "previsoes_v3 = modelo_v3_grid_search_rbf.predict(X_teste_scaled)"
   ]
  },
  {
   "cell_type": "code",
   "execution_count": 311,
   "metadata": {},
   "outputs": [],
   "source": [
    "# Dicionário de métricas e metadados\n",
    "\n",
    "SVM_dict_v3 = {'Modelo':'SVM',\n",
    "               'Versão':'3',\n",
    "               'Kernel':'RBF com Dados Padronizados',\n",
    "               'Precision':precision_score(previsoes_v3, y_teste),\n",
    "               'Recall':recall_score(previsoes_v3, y_teste),\n",
    "               'F1 Score':f1_score(previsoes_v3, y_teste),\n",
    "               'Acurácia':accuracy_score(previsoes_v3, y_teste),\n",
    "               'AUC':roc_auc_score(y_teste, previsoes_v3)}"
   ]
  },
  {
   "cell_type": "code",
   "execution_count": 313,
   "metadata": {},
   "outputs": [
    {
     "name": "stdout",
     "output_type": "stream",
     "text": [
      "Métricas em Teste:\n",
      "\n"
     ]
    },
    {
     "data": {
      "text/plain": [
       "{'Modelo': 'SVM',\n",
       " 'Versão': '3',\n",
       " 'Kernel': 'RBF com Dados Padronizados',\n",
       " 'Precision': 0.52,\n",
       " 'Recall': 0.8666666666666667,\n",
       " 'F1 Score': 0.65,\n",
       " 'Acurácia': 0.9533333333333334,\n",
       " 'AUC': 0.7563636363636363}"
      ]
     },
     "execution_count": 313,
     "metadata": {},
     "output_type": "execute_result"
    }
   ],
   "source": [
    "# Print\n",
    "\n",
    "print(\"Métricas em Teste:\\n\")\n",
    "SVM_dict_v3"
   ]
  },
  {
   "cell_type": "markdown",
   "metadata": {},
   "source": [
    "### Otimização de Hiperparâmetros com Grid Search e Kernel Polinomial"
   ]
  },
  {
   "cell_type": "code",
   "execution_count": 315,
   "metadata": {},
   "outputs": [
    {
     "name": "stdout",
     "output_type": "stream",
     "text": [
      "Tempo de Treinamento do Modelo com Grid Search: 0.17860007286071777\n",
      "Acurácia em Treinamento: 94.86%\n",
      "\n",
      "Hiperparâmetros Ideais: {'coef0': 1.0, 'degree': 3, 'gamma': 0.01}\n"
     ]
    }
   ],
   "source": [
    "# Cria o modelo\n",
    "modelo_v4 = svm.SVC(kernel = 'poly')\n",
    "\n",
    "# Valores para o grid\n",
    "r_range =  np.array([0.5, 1])\n",
    "gamma_range =  np.array([0.001, 0.01])\n",
    "d_range = np.array([2,3, 4])\n",
    "\n",
    "# Grid de hiperparâmetros\n",
    "param_grid_poly = dict(gamma = gamma_range, degree = d_range, coef0 = r_range)\n",
    "\n",
    "# Grid Search\n",
    "start = time.time()\n",
    "modelo_v4_grid_search_poly = GridSearchCV(modelo_v4, param_grid_poly, cv = 3)\n",
    "\n",
    "# Treinamento\n",
    "modelo_v4_grid_search_poly.fit(X_treino_scaled, y_treino)\n",
    "end = time.time()\n",
    "print('Tempo de Treinamento do Modelo com Grid Search:', end - start)\n",
    "\n",
    "# Acurácia em Treino\n",
    "print(f\"Acurácia em Treinamento: {modelo_v4_grid_search_poly.best_score_ :.2%}\")\n",
    "print(\"\")\n",
    "print(f\"Hiperparâmetros Ideais: {modelo_v4_grid_search_poly.best_params_}\")"
   ]
  },
  {
   "cell_type": "code",
   "execution_count": 317,
   "metadata": {},
   "outputs": [],
   "source": [
    "# Previsões\n",
    "\n",
    "previsoes_v4 = modelo_v4_grid_search_poly.predict(X_teste_scaled)"
   ]
  },
  {
   "cell_type": "code",
   "execution_count": 319,
   "metadata": {},
   "outputs": [],
   "source": [
    "# Dicionário de métricas e metadados\n",
    "\n",
    "SVM_dict_v4 = {'Modelo':'SVM',\n",
    "               'Versão':'4',\n",
    "               'Kernel':'Polinomial com Dados Padronizados',\n",
    "               'Precision':precision_score(previsoes_v4, y_teste),\n",
    "               'Recall':recall_score(previsoes_v4, y_teste),\n",
    "               'F1 Score':f1_score(previsoes_v4, y_teste),\n",
    "               'Acurácia':accuracy_score(previsoes_v4, y_teste),\n",
    "               'AUC':roc_auc_score(y_teste, previsoes_v4)}"
   ]
  },
  {
   "cell_type": "code",
   "execution_count": 321,
   "metadata": {},
   "outputs": [
    {
     "name": "stdout",
     "output_type": "stream",
     "text": [
      "Métricas em Teste:\n",
      "\n"
     ]
    },
    {
     "data": {
      "text/plain": [
       "{'Modelo': 'SVM',\n",
       " 'Versão': '4',\n",
       " 'Kernel': 'Polinomial com Dados Padronizados',\n",
       " 'Precision': 0.4,\n",
       " 'Recall': 0.7692307692307693,\n",
       " 'F1 Score': 0.5263157894736842,\n",
       " 'Acurácia': 0.94,\n",
       " 'AUC': 0.6945454545454546}"
      ]
     },
     "execution_count": 321,
     "metadata": {},
     "output_type": "execute_result"
    }
   ],
   "source": [
    "# Print\n",
    "\n",
    "print(\"Métricas em Teste:\\n\")\n",
    "SVM_dict_v4"
   ]
  },
  {
   "cell_type": "code",
   "execution_count": 323,
   "metadata": {},
   "outputs": [],
   "source": [
    "# Concatena todos os dicionários em um dataframe do Pandas\n",
    "\n",
    "resumo = pd.DataFrame({'SVM_Modelo_1':pd.Series(SVM_dict_v1),\n",
    "                       'SVM_Modelo_2':pd.Series(SVM_dict_v2),\n",
    "                       'SVM_Modelo_3':pd.Series(SVM_dict_v3),\n",
    "                       'SVM_Modelo_4':pd.Series(SVM_dict_v4)})"
   ]
  },
  {
   "cell_type": "code",
   "execution_count": 327,
   "metadata": {},
   "outputs": [
    {
     "data": {
      "text/html": [
       "<div>\n",
       "<style scoped>\n",
       "    .dataframe tbody tr th:only-of-type {\n",
       "        vertical-align: middle;\n",
       "    }\n",
       "\n",
       "    .dataframe tbody tr th {\n",
       "        vertical-align: top;\n",
       "    }\n",
       "\n",
       "    .dataframe thead th {\n",
       "        text-align: right;\n",
       "    }\n",
       "</style>\n",
       "<table border=\"1\" class=\"dataframe\">\n",
       "  <thead>\n",
       "    <tr style=\"text-align: right;\">\n",
       "      <th></th>\n",
       "      <th>SVM_Modelo_1</th>\n",
       "      <th>SVM_Modelo_2</th>\n",
       "      <th>SVM_Modelo_3</th>\n",
       "      <th>SVM_Modelo_4</th>\n",
       "    </tr>\n",
       "  </thead>\n",
       "  <tbody>\n",
       "    <tr>\n",
       "      <th>Modelo</th>\n",
       "      <td>SVM</td>\n",
       "      <td>SVM</td>\n",
       "      <td>SVM</td>\n",
       "      <td>SVM</td>\n",
       "    </tr>\n",
       "    <tr>\n",
       "      <th>Versão</th>\n",
       "      <td>1</td>\n",
       "      <td>2</td>\n",
       "      <td>3</td>\n",
       "      <td>4</td>\n",
       "    </tr>\n",
       "    <tr>\n",
       "      <th>Kernel</th>\n",
       "      <td>Linear</td>\n",
       "      <td>Linear com Dados Padronizados</td>\n",
       "      <td>RBF com Dados Padronizados</td>\n",
       "      <td>Polinomial com Dados Padronizados</td>\n",
       "    </tr>\n",
       "    <tr>\n",
       "      <th>Precision</th>\n",
       "      <td>0.52</td>\n",
       "      <td>0.48</td>\n",
       "      <td>0.52</td>\n",
       "      <td>0.4</td>\n",
       "    </tr>\n",
       "    <tr>\n",
       "      <th>Recall</th>\n",
       "      <td>0.764706</td>\n",
       "      <td>0.857143</td>\n",
       "      <td>0.866667</td>\n",
       "      <td>0.769231</td>\n",
       "    </tr>\n",
       "    <tr>\n",
       "      <th>F1 Score</th>\n",
       "      <td>0.619048</td>\n",
       "      <td>0.615385</td>\n",
       "      <td>0.65</td>\n",
       "      <td>0.526316</td>\n",
       "    </tr>\n",
       "    <tr>\n",
       "      <th>Acurácia</th>\n",
       "      <td>0.946667</td>\n",
       "      <td>0.95</td>\n",
       "      <td>0.953333</td>\n",
       "      <td>0.94</td>\n",
       "    </tr>\n",
       "    <tr>\n",
       "      <th>AUC</th>\n",
       "      <td>0.752727</td>\n",
       "      <td>0.736364</td>\n",
       "      <td>0.756364</td>\n",
       "      <td>0.694545</td>\n",
       "    </tr>\n",
       "  </tbody>\n",
       "</table>\n",
       "</div>"
      ],
      "text/plain": [
       "          SVM_Modelo_1                   SVM_Modelo_2  \\\n",
       "Modelo             SVM                            SVM   \n",
       "Versão               1                              2   \n",
       "Kernel          Linear  Linear com Dados Padronizados   \n",
       "Precision         0.52                           0.48   \n",
       "Recall        0.764706                       0.857143   \n",
       "F1 Score      0.619048                       0.615385   \n",
       "Acurácia      0.946667                           0.95   \n",
       "AUC           0.752727                       0.736364   \n",
       "\n",
       "                         SVM_Modelo_3                       SVM_Modelo_4  \n",
       "Modelo                            SVM                                SVM  \n",
       "Versão                              3                                  4  \n",
       "Kernel     RBF com Dados Padronizados  Polinomial com Dados Padronizados  \n",
       "Precision                        0.52                                0.4  \n",
       "Recall                       0.866667                           0.769231  \n",
       "F1 Score                         0.65                           0.526316  \n",
       "Acurácia                     0.953333                               0.94  \n",
       "AUC                          0.756364                           0.694545  "
      ]
     },
     "execution_count": 327,
     "metadata": {},
     "output_type": "execute_result"
    }
   ],
   "source": [
    "# Print\n",
    "\n",
    "resumo"
   ]
  }
 ],
 "metadata": {
  "kernelspec": {
   "display_name": "Python [conda env:base] *",
   "language": "python",
   "name": "conda-base-py"
  },
  "language_info": {
   "codemirror_mode": {
    "name": "ipython",
    "version": 3
   },
   "file_extension": ".py",
   "mimetype": "text/x-python",
   "name": "python",
   "nbconvert_exporter": "python",
   "pygments_lexer": "ipython3",
   "version": "3.12.7"
  }
 },
 "nbformat": 4,
 "nbformat_minor": 4
}
